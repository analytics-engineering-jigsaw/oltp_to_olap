{
 "cells": [
  {
   "cell_type": "markdown",
   "id": "parental-beast",
   "metadata": {},
   "source": [
    "# Reviewing Online Transactional Databases"
   ]
  },
  {
   "cell_type": "markdown",
   "id": "underlying-cancer",
   "metadata": {},
   "source": [
    "### Introduction"
   ]
  },
  {
   "cell_type": "markdown",
   "id": "agricultural-player",
   "metadata": {},
   "source": [
    "Now so far in structuring our databases, we have used a data model suitable for an online transactional processing (OLTP) database.  This is the relational database design of most web applications.  It's a database structure that optimizes for an updating record of user transactions -- where say we update the record of transactions multiple times a second.  \n",
    "\n",
    "However, this design is not optimal for analytics queries, where our data is updated much less often.  So when we structure our data in an analytical database like snowflake, we'll learn some different modeling techniques -- most notably the star schema.  Before moving onto the the star schema, let's review OLTP.  We'll explore some of the issues with structuring our data in an OLTP form, and learn about a new database structure for performing analytical queries."
   ]
  },
  {
   "cell_type": "markdown",
   "id": "placed-taxation",
   "metadata": {
    "tags": []
   },
   "source": [
    "### 1. Online Transactional Processing: Changing Fast"
   ]
  },
  {
   "cell_type": "markdown",
   "id": "stainless-amateur",
   "metadata": {},
   "source": [
    "Online transactional processing is meant for databases that are *transactional*.  For example, the database of any consumer facing website is transactional.  \n",
    "\n",
    "So then what databases are not *transactional*? Well our analytics database does not have a lot of transactions.  Instead, we simply load our data into our analytical database periodically, and then perform queries on it.  So with our analytical database, we will not really update and insert data other than bulk copying additional data, maybe on a daily basis.  \n",
    "\n",
    "Notice that our OLTP database serves a different goal than our analytical database.  The OLTP may be used by thousands users simultaneously.  So it needs to accomodate for high throughput to allow for insert and update-intensive operations.  So one of the main goals with an OLTP is speedy updates and reads.\n",
    "\n",
    "We serve this goal by having tables that are relatively small -- say 5-7 columns or fewer, which speeds up our read and write transactions. \n",
    "\n",
    "For example, if we look at the actor table in the Pagila database, we can see that it is just a few columns."
   ]
  },
  {
   "cell_type": "markdown",
   "id": "systematic-waters",
   "metadata": {},
   "source": [
    "> <img src=\"./actor-table.png\" width=\"90%\">"
   ]
  },
  {
   "cell_type": "markdown",
   "id": "international-reviewer",
   "metadata": {},
   "source": [
    "### OLTP: Single Source of Truth"
   ]
  },
  {
   "cell_type": "markdown",
   "id": "identical-standard",
   "metadata": {},
   "source": [
    "So that's one reason why OLTP has tables with a relatively few number of columns: it allows for speedy inserts and updates.  There is another reason why we an OLTP tends to have tables with a relatively small number of columns - and that is because of a single source of truth.  \n",
    "\n",
    "Remember that with an OLTP, we try to prevent duplication of values our databases.  So for example, with our pagila database, if we want view all of the films that an actor has been in, we still only list the actor's name once -- in the actors table -- and then represent the connection between an actor and a film in the join table."
   ]
  },
  {
   "cell_type": "markdown",
   "id": "8d3fd8c4-2aa3-48a5-a323-8e2af67895c6",
   "metadata": {},
   "source": [
    "> <img src=\"./film-actor.png\" width=\"90%\">"
   ]
  },
  {
   "cell_type": "markdown",
   "id": "intimate-mentor",
   "metadata": {},
   "source": [
    "So we only list the actor information one time in our database, and if we ever need to change the actor's name, we only need to provide the update in one location, and not across multiple records."
   ]
  },
  {
   "cell_type": "markdown",
   "id": "criminal-bhutan",
   "metadata": {},
   "source": [
    "> <img src=\"./actor-list.png\" width=\"80%\">"
   ]
  },
  {
   "cell_type": "markdown",
   "id": "saved-premiere",
   "metadata": {},
   "source": [
    "When we eliminate repetition in our database, we have *normalized* our database, or achieved *third normal form* (3NF) of our database."
   ]
  },
  {
   "cell_type": "markdown",
   "id": "interesting-latex",
   "metadata": {},
   "source": [
    "### 3. Tightly Coupled Information"
   ]
  },
  {
   "cell_type": "markdown",
   "id": "operating-tablet",
   "metadata": {},
   "source": [
    "What's third normal form of a database?  Well as put it by one computer scientist:"
   ]
  },
  {
   "cell_type": "markdown",
   "id": "grave-windsor",
   "metadata": {},
   "source": [
    "> \"[every] non-key [attribute] must provide a fact about the key, the whole key, and nothing but the key\""
   ]
  },
  {
   "cell_type": "markdown",
   "id": "representative-valley",
   "metadata": {},
   "source": [
    "If we look at the actors table, we can see that all of our non-key attributes -- first name, last name do in fact describe the key of `actor_id`."
   ]
  },
  {
   "cell_type": "markdown",
   "id": "oriental-router",
   "metadata": {},
   "source": [
    "> <img src=\"./actor-list.png\" width=\"60%\">"
   ]
  },
  {
   "cell_type": "markdown",
   "id": "traditional-kruger",
   "metadata": {},
   "source": [
    "And if we look at the `film_actor` table we can see that we do not have any non-key attributes (other than the `last_update` column). "
   ]
  },
  {
   "cell_type": "markdown",
   "id": "colored-logan",
   "metadata": {},
   "source": [
    "> <img src=\"./film-actor-table.png\" width=\"60%\">"
   ]
  },
  {
   "cell_type": "markdown",
   "id": "hollywood-ordinary",
   "metadata": {},
   "source": [
    "So, here we see that we meet the requirement that \"[every] non-key [attribute] must provide a fact about the key, the whole key, and nothing but the key\".  \n",
    "\n",
    "So perhaps this is another benefit about this structure.  In addition to providing for fast inserts and updates, and a single source of truth, it also keeps our tables well organized so that each column is gives information about the primary key."
   ]
  },
  {
   "cell_type": "markdown",
   "id": "fe0cbe4d-a0b0-4b13-bdcc-183d28ae9017",
   "metadata": {},
   "source": [
    "As we have guessed, we'll model our data differently in analytical databases, but we'll see how in a little bit.  For now, let's review our understanding of modeling and querying in analytical databases, and then we can see how we model our data differently in OLAP databases."
   ]
  },
  {
   "cell_type": "markdown",
   "id": "hispanic-buying",
   "metadata": {},
   "source": [
    "### Summary"
   ]
  },
  {
   "cell_type": "markdown",
   "id": "assigned-medicine",
   "metadata": {},
   "source": [
    "In this lesson, we reviewed some of the benefits of using an online transactional process (OLTP) database structure.  We saw that the database structure organizes our data into tables with a small number of columns, which provides for fast inserts and updates to our data.  With an OLTP, we prevent duplicating information, promoting a single source of truth.  And when we achieve this, our data is in third normal form.  An added benefit of this is that the non-key columns (fact columns) in a table are directly related to the information in the primary key. "
   ]
  }
 ],
 "metadata": {
  "kernelspec": {
   "display_name": "Python 3 (ipykernel)",
   "language": "python",
   "name": "python3"
  },
  "language_info": {
   "codemirror_mode": {
    "name": "ipython",
    "version": 3
   },
   "file_extension": ".py",
   "mimetype": "text/x-python",
   "name": "python",
   "nbconvert_exporter": "python",
   "pygments_lexer": "ipython3",
   "version": "3.9.7"
  }
 },
 "nbformat": 4,
 "nbformat_minor": 5
}
