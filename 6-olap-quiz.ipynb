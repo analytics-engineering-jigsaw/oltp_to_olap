{
 "cells": [
  {
   "cell_type": "markdown",
   "id": "53e49d81-ae5e-4220-9866-9e499763972e",
   "metadata": {},
   "source": [
    "# OLAP Quiz"
   ]
  },
  {
   "cell_type": "markdown",
   "id": "4fdd840e-c08f-40c5-9e87-0b6e82441128",
   "metadata": {},
   "source": [
    "Write out responses to the following."
   ]
  },
  {
   "cell_type": "markdown",
   "id": "77d86f13-5e97-4b33-a364-b5026fc18f13",
   "metadata": {},
   "source": [
    "1. What types of topics or entities are fact tables generally about?\n",
    "\n",
    "2. What types of topics or entities are generally reserved for dimension tables?\n",
    "\n",
    "3. In terms of datatypes, how do fact tables and dimension tables generally differ?\n",
    "\n",
    "4. Do OLTP tables generally have more or fewer columns than tables in an OLAP database?   \n",
    "\n",
    "5. What are some reasons for structuring tables in an OLTP database differently from tables in an OLAP database?\n",
    "\n",
    "6. What does it mean for our data to be in normal form (AKA third normal form)?\n",
    "\n"
   ]
  }
 ],
 "metadata": {
  "kernelspec": {
   "display_name": "Python 3 (ipykernel)",
   "language": "python",
   "name": "python3"
  },
  "language_info": {
   "codemirror_mode": {
    "name": "ipython",
    "version": 3
   },
   "file_extension": ".py",
   "mimetype": "text/x-python",
   "name": "python",
   "nbconvert_exporter": "python",
   "pygments_lexer": "ipython3",
   "version": "3.10.6"
  }
 },
 "nbformat": 4,
 "nbformat_minor": 5
}
