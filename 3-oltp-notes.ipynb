{
 "cells": [
  {
   "cell_type": "markdown",
   "id": "parental-beast",
   "metadata": {},
   "source": [
    "# Reviewing Online Transactional Databases"
   ]
  },
  {
   "cell_type": "code",
   "execution_count": null,
   "id": "3ac40ab7-628a-4408-9f5d-1962f22b3b3c",
   "metadata": {},
   "outputs": [],
   "source": [
    "* Facebook \n",
    "* Instagram\n",
    "* Amazon\n",
    "* Citibank\n",
    "\n",
    "* Dont repeat yourself\n",
    "\n",
    "OLTP - database that powers a consumer facing application.\n",
    "Online transactional processing database\n",
    "\n",
    "* Lots of users making lots of changes to the database\n",
    "    * high throughput\n",
    "    * optimize for transactions\n",
    "        * 5 - 7 columns\n",
    "        * text | user_id | timestamp | \n",
    "* Single source of truth\n",
    "    * Record\n",
    "    * Every non key attribute must provide information about the key, and nothing but the key\n"
   ]
  },
  {
   "cell_type": "markdown",
   "id": "underlying-cancer",
   "metadata": {},
   "source": [
    "### Introduction"
   ]
  },
  {
   "cell_type": "markdown",
   "id": "placed-taxation",
   "metadata": {
    "tags": []
   },
   "source": [
    "### 1. Online Transactional Processing: Changing Fast"
   ]
  },
  {
   "cell_type": "markdown",
   "id": "stainless-amateur",
   "metadata": {},
   "source": [
    " *transactional*.  \n",
    "\n",
    "* The OLTP may be used by thousands users simultaneously.  \n",
    "    * needs to accomodate for high throughput to allow for insert and update-intensive operations.  \n",
    "    * Fast updates, creates and deletions\n",
    "\n",
    "* Small tables say 5-7 columns or fewer, which speeds up our read and write transactions. \n",
    "\n",
    "Eg. Pagila database"
   ]
  },
  {
   "cell_type": "markdown",
   "id": "systematic-waters",
   "metadata": {},
   "source": [
    "> <img src=\"./actor-table.png\" width=\"90%\">"
   ]
  },
  {
   "cell_type": "markdown",
   "id": "international-reviewer",
   "metadata": {},
   "source": [
    "### OLTP: Single Source of Truth"
   ]
  },
  {
   "cell_type": "markdown",
   "id": "identical-standard",
   "metadata": {},
   "source": [
    "Prevent the duplication of values in our databases.  \n",
    "\n",
    "* Eg. only list the actor's name once -- in the actors table -- and then represent the connection between an actor and a film in the join table."
   ]
  },
  {
   "cell_type": "markdown",
   "id": "8d3fd8c4-2aa3-48a5-a323-8e2af67895c6",
   "metadata": {},
   "source": [
    "> <img src=\"./film-actor.png\" width=\"90%\">"
   ]
  },
  {
   "cell_type": "markdown",
   "id": "intimate-mentor",
   "metadata": {},
   "source": [
    "So we only list the actor information one time in our database, and if we ever need to change the actor's name, we only need to provide the update in one location, and not across multiple records."
   ]
  },
  {
   "cell_type": "markdown",
   "id": "criminal-bhutan",
   "metadata": {},
   "source": [
    "> <img src=\"./actor-list.png\" width=\"80%\">"
   ]
  },
  {
   "cell_type": "markdown",
   "id": "interesting-latex",
   "metadata": {},
   "source": [
    "### 3. Tightly Coupled Information"
   ]
  },
  {
   "cell_type": "markdown",
   "id": "grave-windsor",
   "metadata": {},
   "source": [
    "> \"[every] non-key [attribute] must provide a fact about the key, the whole key, and nothing but the key\""
   ]
  },
  {
   "cell_type": "markdown",
   "id": "representative-valley",
   "metadata": {},
   "source": [
    "If we look at the actors table, we can see that all of our non-key attributes -- first name, last name do in fact describe the key of `actor_id`."
   ]
  },
  {
   "cell_type": "markdown",
   "id": "oriental-router",
   "metadata": {},
   "source": [
    "> <img src=\"./actor-list.png\" width=\"60%\">"
   ]
  },
  {
   "cell_type": "code",
   "execution_count": null,
   "id": "6911b544-fc23-44bd-ad94-17471d88ebbb",
   "metadata": {},
   "outputs": [],
   "source": [
    "Films\n",
    "\n",
    "id. title     | year |  actor_name \n",
    "1 | shawshank    1990   "
   ]
  },
  {
   "cell_type": "markdown",
   "id": "traditional-kruger",
   "metadata": {},
   "source": [
    "And if we look at the `film_actor` table we can see that we do not have any non-key attributes (other than the `last_update` column). "
   ]
  },
  {
   "cell_type": "markdown",
   "id": "colored-logan",
   "metadata": {},
   "source": [
    "> <img src=\"./film-actor-table.png\" width=\"60%\">"
   ]
  },
  {
   "cell_type": "markdown",
   "id": "hollywood-ordinary",
   "metadata": {},
   "source": [
    "So, here we see that we meet the requirement that \"[every] non-key [attribute] must provide a fact about the key, the whole key, and nothing but the key\".  \n",
    "\n",
    "So perhaps this is another benefit about this structure.  In addition to providing for fast inserts and updates, and a single source of truth, it also keeps our tables well organized so that each column provides information about the primary key."
   ]
  },
  {
   "cell_type": "markdown",
   "id": "fe0cbe4d-a0b0-4b13-bdcc-183d28ae9017",
   "metadata": {},
   "source": [
    "As we have guessed, we'll model our data differently in analytical databases, as we'll see how in a little bit.  For now, let's review our understanding of modeling and querying in analytical databases, and then we can see how we model our data differently in OLAP databases."
   ]
  },
  {
   "cell_type": "markdown",
   "id": "hispanic-buying",
   "metadata": {},
   "source": [
    "### Summary"
   ]
  },
  {
   "cell_type": "markdown",
   "id": "assigned-medicine",
   "metadata": {},
   "source": [
    "In this lesson, we reviewed some of the benefits of using an online transactional process (OLTP) database structure.  We saw that the database structure organizes our data into tables with a small number of columns, which provides for fast inserts and updates to our data.  With an OLTP, we prevent duplicating information, promoting a single source of truth.  And when we achieve this, our data is in third normal form.  An added benefit of this is that the non-key columns (fact columns) in a table are directly related to the information in the primary key. "
   ]
  }
 ],
 "metadata": {
  "kernelspec": {
   "display_name": "Python 3 (ipykernel)",
   "language": "python",
   "name": "python3"
  },
  "language_info": {
   "codemirror_mode": {
    "name": "ipython",
    "version": 3
   },
   "file_extension": ".py",
   "mimetype": "text/x-python",
   "name": "python",
   "nbconvert_exporter": "python",
   "pygments_lexer": "ipython3",
   "version": "3.10.6"
  }
 },
 "nbformat": 4,
 "nbformat_minor": 5
}
