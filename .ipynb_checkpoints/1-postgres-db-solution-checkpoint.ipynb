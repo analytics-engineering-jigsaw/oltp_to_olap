{
 "cells": [
  {
   "cell_type": "markdown",
   "id": "shared-weekend",
   "metadata": {},
   "source": [
    "# Postgres Datatypes Lab"
   ]
  },
  {
   "cell_type": "markdown",
   "id": "short-ecology",
   "metadata": {},
   "source": [
    "### Introduction"
   ]
  },
  {
   "cell_type": "markdown",
   "id": "modular-onion",
   "metadata": {},
   "source": [
    "In this lesson, we'll practice working with datatypes in postgres.  To do so, let's continue to use  our pagila database."
   ]
  },
  {
   "cell_type": "markdown",
   "id": "iraqi-committee",
   "metadata": {},
   "source": [
    "### Getting setup"
   ]
  },
  {
   "cell_type": "code",
   "execution_count": 1,
   "id": "developing-powell",
   "metadata": {},
   "outputs": [],
   "source": [
    "import psycopg2\n",
    "def get_cursor():\n",
    "    conn = psycopg2.connect(\n",
    "    host=\"127.0.0.1\",\n",
    "    database=\"pagila_starred\",\n",
    "    user=\"postgres\",\n",
    "    password=\"postgres\")\n",
    "    \n",
    "    cursor = conn.cursor()\n",
    "    return cursor"
   ]
  },
  {
   "cell_type": "code",
   "execution_count": 15,
   "id": "agricultural-clearance",
   "metadata": {},
   "outputs": [],
   "source": [
    "cursor = get_cursor()"
   ]
  },
  {
   "cell_type": "markdown",
   "id": "binding-burden",
   "metadata": {},
   "source": [
    "Use the information on the `film` table to find the average `rental_rate` for each `rating`."
   ]
  },
  {
   "cell_type": "code",
   "execution_count": 10,
   "id": "appropriate-purse",
   "metadata": {},
   "outputs": [
    {
     "data": {
      "text/plain": [
       "[('PG', Decimal('3.0518556701030928')),\n",
       " ('R', Decimal('2.9387179487179487')),\n",
       " ('PG-13', Decimal('3.0348430493273543')),\n",
       " ('NC-17', Decimal('2.9709523809523810')),\n",
       " ('G', Decimal('2.8888764044943820'))]"
      ]
     },
     "execution_count": 10,
     "metadata": {},
     "output_type": "execute_result"
    }
   ],
   "source": [
    "cursor.execute(\"\"\"SELECT rating, AVG(rental_rate)\n",
    "FROM film GROUP BY rating;\"\"\")\n",
    "\n",
    "cursor.fetchall()"
   ]
  },
  {
   "cell_type": "markdown",
   "id": "straight-chart",
   "metadata": {},
   "source": [
    "Now round these to a single decimal place and order from highest to lowest rate."
   ]
  },
  {
   "cell_type": "code",
   "execution_count": 9,
   "id": "inside-cookie",
   "metadata": {},
   "outputs": [
    {
     "data": {
      "text/plain": [
       "[('PG', Decimal('3.1')),\n",
       " ('PG-13', Decimal('3.0')),\n",
       " ('NC-17', Decimal('3.0')),\n",
       " ('R', Decimal('2.9')),\n",
       " ('G', Decimal('2.9'))]"
      ]
     },
     "execution_count": 9,
     "metadata": {},
     "output_type": "execute_result"
    }
   ],
   "source": [
    "cursor.execute(\"\"\"SELECT rating, ROUND(AVG(rental_rate), 1) as avg_rate\n",
    "FROM film \n",
    "GROUP BY rating\n",
    "ORDER BY avg_rate DESC;\"\"\")\n",
    "\n",
    "cursor.fetchall()\n",
    "# [('PG', Decimal('3.1')),\n",
    "#  ('PG-13', Decimal('3.0')),\n",
    "#  ('NC-17', Decimal('3.0')),\n",
    "#  ('R', Decimal('2.9')),\n",
    "#  ('G', Decimal('2.9'))]"
   ]
  },
  {
   "cell_type": "markdown",
   "id": "elementary-intersection",
   "metadata": {},
   "source": [
    "Next, display the first three actors in the `actor` table in the format of `last_name, first_name`."
   ]
  },
  {
   "cell_type": "code",
   "execution_count": 35,
   "id": "comparable-deposit",
   "metadata": {},
   "outputs": [
    {
     "data": {
      "text/plain": [
       "[('GUINESS, PENELOPE',), ('WAHLBERG, NICK',), ('CHASE, ED',)]"
      ]
     },
     "execution_count": 35,
     "metadata": {},
     "output_type": "execute_result"
    }
   ],
   "source": [
    "cursor.execute(\"\"\"SELECT concat(last_name, ', ', first_name) FROM actor LIMIT 3;\"\"\")\n",
    "cursor.fetchall()\n",
    "\n",
    "# [('GUINESS, PENELOPE',), ('WAHLBERG, NICK',), ('CHASE, ED',)]"
   ]
  },
  {
   "cell_type": "markdown",
   "id": "close-accommodation",
   "metadata": {},
   "source": [
    "If we look at the `address` field under address, there are many different words for road.\n",
    "\n",
    "> For example, we see the words Drive and Boulevard in the first two entries."
   ]
  },
  {
   "cell_type": "code",
   "execution_count": 12,
   "id": "behavioral-mistake",
   "metadata": {},
   "outputs": [
    {
     "data": {
      "text/plain": [
       "[('47 MySakila Drive',), ('28 MySQL Boulevard',)]"
      ]
     },
     "execution_count": 12,
     "metadata": {},
     "output_type": "execute_result"
    }
   ],
   "source": [
    "cursor.execute(\"\"\"SELECT address FROM address LIMIT 2;\"\"\")\n",
    "cursor.fetchall()"
   ]
  },
  {
   "cell_type": "markdown",
   "id": "trying-gauge",
   "metadata": {},
   "source": [
    "Get a list of the first five words used."
   ]
  },
  {
   "cell_type": "code",
   "execution_count": 30,
   "id": "signed-imperial",
   "metadata": {},
   "outputs": [
    {
     "data": {
      "text/plain": [
       "[('MySakila',), ('MySQL',), ('Workhaven',), ('Lillydale',), ('Hanoi',)]"
      ]
     },
     "execution_count": 30,
     "metadata": {},
     "output_type": "execute_result"
    }
   ],
   "source": [
    "cursor = get_cursor()\n",
    "\n",
    "cursor.execute(\"\"\"SELECT split_part(address, ' ', 2) FROM address LIMIT 5;\"\"\")\n",
    "cursor.fetchall()\n",
    "\n",
    "# [('MySakila',), ('MySQL',), ('Workhaven',), ('Lillydale',), ('Hanoi',)]"
   ]
  },
  {
   "cell_type": "markdown",
   "id": "indian-shopper",
   "metadata": {},
   "source": [
    "> Bonus: Next let's find the top five words used most as the third word."
   ]
  },
  {
   "cell_type": "code",
   "execution_count": 31,
   "id": "secret-question",
   "metadata": {},
   "outputs": [
    {
     "data": {
      "text/plain": [
       "[('San', 9), ('A', 5), ('Nakhon', 5), ('Stara', 5), ('Pyongyang', 4)]"
      ]
     },
     "execution_count": 31,
     "metadata": {},
     "output_type": "execute_result"
    }
   ],
   "source": [
    "cursor.execute(\"\"\"SELECT split_part(address, ' ', 2) as road, \n",
    "COUNT(split_part(address, ' ', 2))\n",
    "FROM address \n",
    "GROUP BY road ORDER BY COUNT(split_part(address, ' ', 2)) DESC LIMIT 5;\"\"\")\n",
    "cursor.fetchall()\n",
    "\n",
    "# [('San', 9), ('A', 5), ('Nakhon', 5), ('Stara', 5), ('Pyongyang', 4)]"
   ]
  },
  {
   "cell_type": "markdown",
   "id": "dutch-mercury",
   "metadata": {},
   "source": [
    "### Date Times"
   ]
  },
  {
   "cell_type": "markdown",
   "id": "individual-board",
   "metadata": {},
   "source": [
    "Now use the information in the `customer` table to determine  which year had the most amount of customer signups."
   ]
  },
  {
   "cell_type": "code",
   "execution_count": 32,
   "id": "approximate-least",
   "metadata": {},
   "outputs": [
    {
     "data": {
      "text/plain": [
       "[(2017.0, 599)]"
      ]
     },
     "execution_count": 32,
     "metadata": {},
     "output_type": "execute_result"
    }
   ],
   "source": [
    "query = \"\"\"SELECT extract(year from create_date) as year, \n",
    "COUNT(extract(year from create_date)) \n",
    "FROM customer \n",
    "GROUP BY year LIMIT 2;\"\"\"\n",
    "cursor.execute(query)\n",
    "cursor.fetchall()\n",
    "\n",
    "# [(2017.0, 599)]"
   ]
  },
  {
   "cell_type": "markdown",
   "id": "convertible-omega",
   "metadata": {},
   "source": [
    "So we can see that all of the customers were created in 2017."
   ]
  },
  {
   "cell_type": "markdown",
   "id": "restricted-grace",
   "metadata": {},
   "source": [
    "Instead of having `2017` be a decimal, convert that value to a varchar."
   ]
  },
  {
   "cell_type": "code",
   "execution_count": 33,
   "id": "competitive-moore",
   "metadata": {},
   "outputs": [
    {
     "data": {
      "text/plain": [
       "[('2017', 599)]"
      ]
     },
     "execution_count": 33,
     "metadata": {},
     "output_type": "execute_result"
    }
   ],
   "source": [
    "query = \"\"\"SELECT extract(year from create_date)::varchar(5) as year, \n",
    "COUNT(extract(year from create_date)) \n",
    "FROM customer \n",
    "GROUP BY year LIMIT 2;\"\"\"\n",
    "cursor.execute(query)\n",
    "cursor.fetchall()\n",
    "\n",
    "# [('2017', 599)]"
   ]
  },
  {
   "cell_type": "markdown",
   "id": "stuck-stanley",
   "metadata": {},
   "source": [
    "### Summary"
   ]
  },
  {
   "cell_type": "markdown",
   "id": "genetic-speaker",
   "metadata": {},
   "source": [
    "In this lesson, we worked with numeric, datetime, and text data in postgres.  We also reviewed casting data from one datatype into another."
   ]
  },
  {
   "cell_type": "markdown",
   "id": "blocked-creek",
   "metadata": {},
   "source": [
    "### Resources\n",
    "\n",
    "[Searching with tsvector](https://www.compose.com/articles/mastering-postgresql-tools-full-text-search-and-phrase-search/)"
   ]
  }
 ],
 "metadata": {
  "kernelspec": {
   "display_name": "Python 3",
   "language": "python",
   "name": "python3"
  },
  "language_info": {
   "codemirror_mode": {
    "name": "ipython",
    "version": 3
   },
   "file_extension": ".py",
   "mimetype": "text/x-python",
   "name": "python",
   "nbconvert_exporter": "python",
   "pygments_lexer": "ipython3",
   "version": "3.8.6"
  }
 },
 "nbformat": 4,
 "nbformat_minor": 5
}
