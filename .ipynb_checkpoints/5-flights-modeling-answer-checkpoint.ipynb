{
 "cells": [
  {
   "cell_type": "markdown",
   "id": "bab3dff0-9ddd-47fb-9e69-29bd4e05c8b7",
   "metadata": {},
   "source": [
    "# Flights modeling answer"
   ]
  },
  {
   "cell_type": "markdown",
   "id": "120cfdd4-e35a-41f3-b2d6-c19d925e8c1a",
   "metadata": {},
   "source": [
    "<img src=\"./flight-modeling.png\">"
   ]
  },
  {
   "cell_type": "code",
   "execution_count": null,
   "id": "b4abaeaa-d3a0-4594-b7a7-8ff0976499f7",
   "metadata": {},
   "outputs": [],
   "source": []
  }
 ],
 "metadata": {
  "kernelspec": {
   "display_name": "Python 3 (ipykernel)",
   "language": "python",
   "name": "python3"
  },
  "language_info": {
   "codemirror_mode": {
    "name": "ipython",
    "version": 3
   },
   "file_extension": ".py",
   "mimetype": "text/x-python",
   "name": "python",
   "nbconvert_exporter": "python",
   "pygments_lexer": "ipython3",
   "version": "3.9.12"
  }
 },
 "nbformat": 4,
 "nbformat_minor": 5
}
