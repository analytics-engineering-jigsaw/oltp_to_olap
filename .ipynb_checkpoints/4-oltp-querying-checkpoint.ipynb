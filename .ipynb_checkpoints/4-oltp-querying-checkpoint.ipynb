{
 "cells": [
  {
   "cell_type": "markdown",
   "id": "adverse-cancer",
   "metadata": {},
   "source": [
    "# OLTP Querying Lab"
   ]
  },
  {
   "cell_type": "markdown",
   "id": "another-september",
   "metadata": {},
   "source": [
    "### Introduction"
   ]
  },
  {
   "cell_type": "markdown",
   "id": "governmental-berry",
   "metadata": {},
   "source": [
    "In this lesson, we'll practice querying using query relations on our pagila database.  Let's get started. "
   ]
  },
  {
   "cell_type": "markdown",
   "id": "active-founder",
   "metadata": {},
   "source": [
    "### Seeing the model"
   ]
  },
  {
   "cell_type": "markdown",
   "id": "peaceful-vessel",
   "metadata": {},
   "source": [
    "At this point, it's worth getting a sense of the relationships in our OLTP.  We can begin by taking a look at the various tables."
   ]
  },
  {
   "cell_type": "markdown",
   "id": "racial-premium",
   "metadata": {},
   "source": [
    "<img src=\"./tables.png\" width=\"60%\">"
   ]
  },
  {
   "cell_type": "markdown",
   "id": "fundamental-tennis",
   "metadata": {},
   "source": [
    "And from there, can identify the tables that have a number of foreign keys -- called our join tables.  Let's take some educated guesses as to which tables may be our join tables.\n",
    "\n",
    "Before even checking for yourself, identify three tables above that mainly consist of foreign keys."
   ]
  },
  {
   "cell_type": "markdown",
   "id": "hybrid-cross",
   "metadata": {},
   "source": [
    "### Performing Queries"
   ]
  },
  {
   "cell_type": "markdown",
   "id": "mobile-commonwealth",
   "metadata": {},
   "source": [
    "Ok, now let's perform some queries.  First, we'll connect to our database."
   ]
  },
  {
   "cell_type": "code",
   "execution_count": 12,
   "id": "better-trauma",
   "metadata": {},
   "outputs": [],
   "source": [
    "import psycopg2\n",
    "def get_cursor():\n",
    "    conn = psycopg2.connect(\n",
    "    host=\"127.0.0.1\",\n",
    "    database=\"pagila\",\n",
    "    user=\"postgres\",\n",
    "    password=\"postgres\")\n",
    "    \n",
    "    cursor = conn.cursor()\n",
    "    return conn, cursor"
   ]
  },
  {
   "cell_type": "code",
   "execution_count": 26,
   "id": "moving-protocol",
   "metadata": {},
   "outputs": [],
   "source": [
    "conn, cursor = get_cursor()"
   ]
  },
  {
   "cell_type": "markdown",
   "id": "annoying-positive",
   "metadata": {},
   "source": [
    "Now for our first query.  Let's find the title of every film that `JUDY DEAN` played in.  Limit it to five films."
   ]
  },
  {
   "cell_type": "code",
   "execution_count": 22,
   "id": "configured-stanley",
   "metadata": {},
   "outputs": [
    {
     "data": {
      "text/plain": [
       "[('ALADDIN CALENDAR',),\n",
       " ('ARACHNOPHOBIA ROLLERCOASTER',),\n",
       " ('BALLROOM MOCKINGBIRD',),\n",
       " ('CYCLONE FAMILY',),\n",
       " ('DROP WATERFRONT',)]"
      ]
     },
     "execution_count": 22,
     "metadata": {},
     "output_type": "execute_result"
    }
   ],
   "source": [
    "query = \"\"\" \"\"\"\n",
    "cursor.execute(query)\n",
    "cursor.fetchall()\n",
    "\n",
    "# [('ALADDIN CALENDAR',),\n",
    "#  ('ARACHNOPHOBIA ROLLERCOASTER',),\n",
    "#  ('BALLROOM MOCKINGBIRD',),\n",
    "#  ('CYCLONE FAMILY',),\n",
    "#  ('DROP WATERFRONT',)]"
   ]
  },
  {
   "cell_type": "markdown",
   "id": "caring-quarterly",
   "metadata": {},
   "source": [
    "Next, let's find the titles of all of the `Action` films.\n",
    "\n",
    "> Limit to the first five films."
   ]
  },
  {
   "cell_type": "code",
   "execution_count": 29,
   "id": "cleared-universe",
   "metadata": {},
   "outputs": [
    {
     "data": {
      "text/plain": [
       "[('ACADEMY DINOSAUR',),\n",
       " ('ACE GOLDFINGER',),\n",
       " ('ADAPTATION HOLES',),\n",
       " ('AFFAIR PREJUDICE',),\n",
       " ('AFRICAN EGG',)]"
      ]
     },
     "execution_count": 29,
     "metadata": {},
     "output_type": "execute_result"
    }
   ],
   "source": [
    "query = \"\"\" \"\"\"\n",
    "\n",
    "cursor.execute(query)\n",
    "cursor.fetchall()\n",
    "# [('ACADEMY DINOSAUR',),\n",
    "#  ('ACE GOLDFINGER',),\n",
    "#  ('ADAPTATION HOLES',),\n",
    "#  ('AFFAIR PREJUDICE',),\n",
    "#  ('AFRICAN EGG',)]"
   ]
  },
  {
   "cell_type": "markdown",
   "id": "matched-rebecca",
   "metadata": {},
   "source": [
    "Let's finish up by looking at some transactions.  Find the titles of all of the films that `PATRICIA JOHNSON` rented."
   ]
  },
  {
   "cell_type": "markdown",
   "id": "promotional-pantyhose",
   "metadata": {},
   "source": [
    "> Limit to the first five titles."
   ]
  },
  {
   "cell_type": "code",
   "execution_count": 31,
   "id": "alpha-summit",
   "metadata": {},
   "outputs": [
    {
     "data": {
      "text/plain": [
       "[('DOORS PRESIDENT',),\n",
       " ('BLACKOUT PRIVATE',),\n",
       " ('TOMORROW HUSTLER',),\n",
       " ('MUMMY CREATURES',),\n",
       " ('CLUELESS BUCKET',)]"
      ]
     },
     "execution_count": 31,
     "metadata": {},
     "output_type": "execute_result"
    }
   ],
   "source": [
    "query = \"\"\"\n",
    "\n",
    "\"\"\"\n",
    "\n",
    "cursor.execute(query)\n",
    "cursor.fetchall()\n",
    "\n",
    "# [('DOORS PRESIDENT',),\n",
    "#  ('BLACKOUT PRIVATE',),\n",
    "#  ('TOMORROW HUSTLER',),\n",
    "#  ('MUMMY CREATURES',),\n",
    "#  ('CLUELESS BUCKET',)]"
   ]
  },
  {
   "cell_type": "markdown",
   "id": "eight-baker",
   "metadata": {},
   "source": [
    "### Summary"
   ]
  },
  {
   "cell_type": "markdown",
   "id": "civic-sapphire",
   "metadata": {},
   "source": [
    "In this lesson, we practiced queries on our OLTP database.  The key is to identify the tables that have foreign keys, as they will be key in performing our queries.  Here, the main tables to pay attention to were the tables `film_actor`, `film_category`,`inventory`, and most importantly `rental`.  "
   ]
  }
 ],
 "metadata": {
  "kernelspec": {
   "display_name": "Python 3",
   "language": "python",
   "name": "python3"
  },
  "language_info": {
   "codemirror_mode": {
    "name": "ipython",
    "version": 3
   },
   "file_extension": ".py",
   "mimetype": "text/x-python",
   "name": "python",
   "nbconvert_exporter": "python",
   "pygments_lexer": "ipython3",
   "version": "3.8.6"
  }
 },
 "nbformat": 4,
 "nbformat_minor": 5
}
