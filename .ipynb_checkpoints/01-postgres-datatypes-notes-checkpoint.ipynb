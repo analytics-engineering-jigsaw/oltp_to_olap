{
 "cells": [
  {
   "cell_type": "markdown",
   "id": "recreational-tyler",
   "metadata": {},
   "source": [
    "# Postgres DataTypes"
   ]
  },
  {
   "cell_type": "markdown",
   "id": "martial-longitude",
   "metadata": {},
   "source": [
    "### Introduction"
   ]
  },
  {
   "cell_type": "markdown",
   "id": "blessed-alaska",
   "metadata": {},
   "source": [
    "In this lesson, we'll dig deeper into some of our datatypes to see how we can perform coerce our data just like we might in Python."
   ]
  },
  {
   "cell_type": "markdown",
   "id": "executed-enclosure",
   "metadata": {},
   "source": [
    "### Getting Set Up"
   ]
  },
  {
   "cell_type": "markdown",
   "id": "accessible-slope",
   "metadata": {},
   "source": [
    "To work through this, and following material we'll refer to the pagila database located in the following repository: [pagila data](https://github.com/devrimgunduz/pagila)."
   ]
  },
  {
   "cell_type": "markdown",
   "id": "indie-bulgarian",
   "metadata": {},
   "source": [
    "To create the database, we can do the following:\n",
    "\n",
    "1. Clone down the [pagila data](https://github.com/devrimgunduz/pagila) repository\n",
    "2. Create a new database in postgres (perhaps called `pagila`)\n",
    "3. Run the `pagila-schema.sql` file against the database to create the necessary tables\n",
    "4. Run the `pagila-data.sql` file against the database to insert the necessary data"
   ]
  },
  {
   "cell_type": "markdown",
   "id": "restricted-genetics",
   "metadata": {},
   "source": [
    "Next, we write a function that returns a connection to the database, as well as the cursor."
   ]
  },
  {
   "cell_type": "markdown",
   "id": "hourly-wireless",
   "metadata": {},
   "source": [
    "> Make sure that the name of the database aligns with the database you created, and that the `user` and `password` is appropriate."
   ]
  },
  {
   "cell_type": "code",
   "execution_count": 5,
   "id": "hired-strengthening",
   "metadata": {},
   "outputs": [],
   "source": [
    "import psycopg2\n",
    "\n",
    "def get_cursor():\n",
    "    conn = psycopg2.connect(\n",
    "    database=\"pagila\",\n",
    "    user=\"postgres\",\n",
    "    password=\"postgres\")\n",
    "    cursor = conn.cursor()\n",
    "    return conn, cursor"
   ]
  },
  {
   "cell_type": "code",
   "execution_count": 6,
   "id": "restricted-joining",
   "metadata": {},
   "outputs": [],
   "source": [
    "conn, cursor = get_cursor()"
   ]
  },
  {
   "cell_type": "markdown",
   "id": "linear-boundary",
   "metadata": {},
   "source": [
    "And then we can confirm that we can connect to the database by doing an initial query."
   ]
  },
  {
   "cell_type": "code",
   "execution_count": 7,
   "id": "portuguese-pleasure",
   "metadata": {},
   "outputs": [],
   "source": [
    "cursor.execute('SELECT * FROM store LIMIT 1;')"
   ]
  },
  {
   "cell_type": "code",
   "execution_count": 8,
   "id": "naked-leisure",
   "metadata": {},
   "outputs": [
    {
     "data": {
      "text/plain": [
       "[]"
      ]
     },
     "execution_count": 8,
     "metadata": {},
     "output_type": "execute_result"
    }
   ],
   "source": [
    "cursor.fetchall()\n",
    "# [(1,\n",
    "#   1,\n",
    "#   1,\n",
    "#   datetime.datetime(2020, 2, 15, 4, 57, 12, tzinfo=psycopg2.tz.FixedOffsetTimezone(offset=-300, name=None)))]\n"
   ]
  },
  {
   "cell_type": "markdown",
   "id": "furnished-sense",
   "metadata": {},
   "source": [
    "Ok, now that we have our data setup, let's learn some more about datatypes."
   ]
  },
  {
   "cell_type": "markdown",
   "id": "connected-newport",
   "metadata": {},
   "source": [
    "### Going deeper with Datatypes"
   ]
  },
  {
   "cell_type": "markdown",
   "id": "successful-responsibility",
   "metadata": {},
   "source": [
    "Now when working with data in postgres, it's a good assumption that any function available to us in Python will also be available to us in postgres.  Now we won't cover these functions extensively, because frankly, there are too many.  \n",
    "\n",
    "But we should learn a few more functions to develop a sense of just what is available to us in postgres.\n",
    "\n",
    "Let's start with strings."
   ]
  },
  {
   "cell_type": "markdown",
   "id": "piano-blake",
   "metadata": {
    "tags": []
   },
   "source": [
    "### Deeper with Strings"
   ]
  },
  {
   "cell_type": "markdown",
   "id": "consolidated-cigarette",
   "metadata": {},
   "source": [
    "1. Slicing "
   ]
  },
  {
   "cell_type": "markdown",
   "id": "controlled-evolution",
   "metadata": {},
   "source": [
    "Just like with Python, we can slice our strings in Postgres, and we can do so with the `left` function, which returns the leftmost `n` characters of a string."
   ]
  },
  {
   "cell_type": "code",
   "execution_count": 16,
   "id": "received-cycle",
   "metadata": {},
   "outputs": [],
   "source": [
    "query = \"\"\"\n",
    "SELECT left(first_name, 3) FROM customer LIMIT 5;\n",
    "\"\"\""
   ]
  },
  {
   "cell_type": "code",
   "execution_count": 17,
   "id": "curious-champion",
   "metadata": {},
   "outputs": [
    {
     "data": {
      "text/plain": [
       "[('MAR',), ('PAT',), ('LIN',), ('BAR',), ('ELI',)]"
      ]
     },
     "execution_count": 17,
     "metadata": {},
     "output_type": "execute_result"
    }
   ],
   "source": [
    "cursor.execute(query)\n",
    "cursor.fetchall()\n",
    "\n",
    "# [('MAR',), ('PAT',), ('LIN',), ('BAR',), ('ELI',)]"
   ]
  },
  {
   "cell_type": "markdown",
   "id": "automotive-disease",
   "metadata": {},
   "source": [
    "And we can return the last three letters with the `right` function."
   ]
  },
  {
   "cell_type": "code",
   "execution_count": 76,
   "id": "several-memory",
   "metadata": {},
   "outputs": [],
   "source": [
    "query = \"\"\"\n",
    "SELECT right(first_name, 3) FROM customer LIMIT 5;\n",
    "\"\"\""
   ]
  },
  {
   "cell_type": "code",
   "execution_count": 77,
   "id": "thick-milton",
   "metadata": {},
   "outputs": [],
   "source": [
    "cursor.execute(query)"
   ]
  },
  {
   "cell_type": "code",
   "execution_count": 78,
   "id": "ruled-border",
   "metadata": {},
   "outputs": [
    {
     "data": {
      "text/plain": [
       "[('ARY',), ('CIA',), ('NDA',), ('ARA',), ('ETH',)]"
      ]
     },
     "execution_count": 78,
     "metadata": {},
     "output_type": "execute_result"
    }
   ],
   "source": [
    "cursor.fetchall()\n",
    "\n",
    "# [('ARY',), ('CIA',), ('NDA',), ('ARA',), ('ETH',)]"
   ]
  },
  {
   "cell_type": "markdown",
   "id": "violent-cyprus",
   "metadata": {},
   "source": [
    "> So `left` and `right` is used to slice our strings from the beginning and end, respectively."
   ]
  },
  {
   "cell_type": "markdown",
   "id": "several-nomination",
   "metadata": {},
   "source": [
    "2. Concatenation"
   ]
  },
  {
   "cell_type": "markdown",
   "id": "delayed-cricket",
   "metadata": {},
   "source": [
    "Next let's see how we can concatenate two strings in postgres.  We can do so with the concat function."
   ]
  },
  {
   "cell_type": "code",
   "execution_count": 19,
   "id": "breeding-completion",
   "metadata": {},
   "outputs": [],
   "source": [
    "query = \"\"\"\n",
    "SELECT concat(first_name, last_name) FROM customer LIMIT 5;\n",
    "\"\"\""
   ]
  },
  {
   "cell_type": "code",
   "execution_count": 80,
   "id": "accompanied-explorer",
   "metadata": {},
   "outputs": [
    {
     "data": {
      "text/plain": [
       "[('MARYSMITH',),\n",
       " ('PATRICIAJOHNSON',),\n",
       " ('LINDAWILLIAMS',),\n",
       " ('BARBARAJONES',),\n",
       " ('ELIZABETHBROWN',)]"
      ]
     },
     "execution_count": 80,
     "metadata": {},
     "output_type": "execute_result"
    }
   ],
   "source": [
    "cursor.execute(query)\n",
    "cursor.fetchall()"
   ]
  },
  {
   "cell_type": "markdown",
   "id": "informed-roller",
   "metadata": {},
   "source": [
    "> So with the `concat` function we can concatenate the values of two different columns."
   ]
  },
  {
   "cell_type": "markdown",
   "id": "serious-offset",
   "metadata": {},
   "source": [
    "Let's add a space in there."
   ]
  },
  {
   "cell_type": "code",
   "execution_count": 81,
   "id": "sweet-exploration",
   "metadata": {},
   "outputs": [
    {
     "data": {
      "text/plain": [
       "[('MARY SMITH',),\n",
       " ('PATRICIA JOHNSON',),\n",
       " ('LINDA WILLIAMS',),\n",
       " ('BARBARA JONES',),\n",
       " ('ELIZABETH BROWN',)]"
      ]
     },
     "execution_count": 81,
     "metadata": {},
     "output_type": "execute_result"
    }
   ],
   "source": [
    "query = \"\"\"\n",
    "SELECT concat(first_name, ' ',last_name) FROM customer LIMIT 5;\n",
    "\"\"\"\n",
    "cursor.execute(query)\n",
    "cursor.fetchall()"
   ]
  },
  {
   "cell_type": "markdown",
   "id": "mobile-fields",
   "metadata": {},
   "source": [
    "3. Split"
   ]
  },
  {
   "cell_type": "markdown",
   "id": "juvenile-incentive",
   "metadata": {},
   "source": [
    "Now that we saw how to split combine strings, let's see how to split them apart.  For example, take a look at the addresses.  "
   ]
  },
  {
   "cell_type": "markdown",
   "id": "related-documentary",
   "metadata": {},
   "source": [
    "> Below address is both the name of the column, and the table in question."
   ]
  },
  {
   "cell_type": "code",
   "execution_count": 20,
   "id": "atomic-forge",
   "metadata": {},
   "outputs": [
    {
     "data": {
      "text/plain": [
       "[('47 MySakila Drive',),\n",
       " ('28 MySQL Boulevard',),\n",
       " ('23 Workhaven Lane',),\n",
       " ('1411 Lillydale Drive',),\n",
       " ('1913 Hanoi Way',)]"
      ]
     },
     "execution_count": 20,
     "metadata": {},
     "output_type": "execute_result"
    }
   ],
   "source": [
    "query = \"\"\"\n",
    "SELECT address FROM address LIMIT 5;\n",
    "\"\"\"\n",
    "cursor.execute(query)\n",
    "cursor.fetchall()"
   ]
  },
  {
   "cell_type": "markdown",
   "id": "grateful-study",
   "metadata": {},
   "source": [
    "Now, let's just select the middle word from each of the addresses using the `split_part` function. "
   ]
  },
  {
   "cell_type": "code",
   "execution_count": 91,
   "id": "destroyed-demographic",
   "metadata": {},
   "outputs": [
    {
     "data": {
      "text/plain": [
       "[('MySakila',), ('MySQL',), ('Workhaven',), ('Lillydale',), ('Hanoi',)]"
      ]
     },
     "execution_count": 91,
     "metadata": {},
     "output_type": "execute_result"
    }
   ],
   "source": [
    "query = \"\"\"\n",
    "SELECT split_part(address, ' ', 2) FROM address LIMIT 5;\n",
    "\"\"\"\n",
    "cursor.execute(query)\n",
    "cursor.fetchall()"
   ]
  },
  {
   "cell_type": "markdown",
   "id": "shared-cotton",
   "metadata": {},
   "source": [
    "> So above we use `split_apart`, the column we are splitting, and the index we are selecting, beginning at the number one (as opposed to zero)."
   ]
  },
  {
   "cell_type": "markdown",
   "id": "initial-playback",
   "metadata": {},
   "source": [
    "### Working with Dates and TimeStamps"
   ]
  },
  {
   "cell_type": "markdown",
   "id": "pressed-appendix",
   "metadata": {},
   "source": [
    "Next, let's work with datetime operators.  Oftentimes we will want to extract a month, day, or year from a date or timestamp.  Let's see an example, where we extract the month.  We'll do so with the customer table.  This is what the customer table looks like."
   ]
  },
  {
   "cell_type": "markdown",
   "id": "collect-tyler",
   "metadata": {},
   "source": [
    "> <img src=\"./display_customer.png\" width=\"90%\">"
   ]
  },
  {
   "cell_type": "markdown",
   "id": "behind-burns",
   "metadata": {},
   "source": [
    "So let's see the month that our customers were created."
   ]
  },
  {
   "cell_type": "code",
   "execution_count": 22,
   "id": "formal-karma",
   "metadata": {},
   "outputs": [
    {
     "data": {
      "text/plain": [
       "[(2.0,), (2.0,), (2.0,), (2.0,), (2.0,)]"
      ]
     },
     "execution_count": 22,
     "metadata": {},
     "output_type": "execute_result"
    }
   ],
   "source": [
    "query = \"\"\"\n",
    "SELECT  extract(month from create_date) FROM customer LIMIT 5;\n",
    "\"\"\"\n",
    "cursor.execute(query)\n",
    "cursor.fetchall()"
   ]
  },
  {
   "cell_type": "markdown",
   "id": "applied-alarm",
   "metadata": {},
   "source": [
    "> So it looks like customers were created in the month of February."
   ]
  },
  {
   "cell_type": "markdown",
   "id": "secure-bennett",
   "metadata": {},
   "source": [
    "Now we can extract almost any information we like from a date (day of year, day of week).  For a full list, search for the word `extract` in [the documentation](https://www.postgresql.org/docs/9.1/functions-datetime.html).  Here's another example."
   ]
  },
  {
   "cell_type": "code",
   "execution_count": 102,
   "id": "respected-congo",
   "metadata": {},
   "outputs": [
    {
     "data": {
      "text/plain": [
       "[(45.0,), (45.0,), (45.0,), (45.0,), (45.0,)]"
      ]
     },
     "execution_count": 102,
     "metadata": {},
     "output_type": "execute_result"
    }
   ],
   "source": [
    "query = \"\"\"\n",
    "SELECT  extract(doy from create_date) FROM customer LIMIT 5;\n",
    "\"\"\"\n",
    "cursor.execute(query)\n",
    "cursor.fetchall()"
   ]
  },
  {
   "cell_type": "markdown",
   "id": "revised-hardwood",
   "metadata": {},
   "source": [
    "### Working with Numbers"
   ]
  },
  {
   "cell_type": "markdown",
   "id": "offensive-patio",
   "metadata": {},
   "source": [
    "Now, as you may imagine there is a quite a bit we can do with numeric types as well.  A full list is [here](https://www.postgresql.org/docs/9.1/functions-math.html), but let's explore a few key functions specifically. "
   ]
  },
  {
   "cell_type": "markdown",
   "id": "suspected-spread",
   "metadata": {},
   "source": [
    "1. `round`"
   ]
  },
  {
   "cell_type": "markdown",
   "id": "premium-leone",
   "metadata": {},
   "source": [
    "> To see it in action, first we can see the `rental_rate` -- first, without the use of round."
   ]
  },
  {
   "cell_type": "code",
   "execution_count": 4,
   "id": "practical-roberts",
   "metadata": {},
   "outputs": [
    {
     "data": {
      "text/plain": [
       "[(Decimal('0.99'),), (Decimal('4.99'),)]"
      ]
     },
     "execution_count": 4,
     "metadata": {},
     "output_type": "execute_result"
    }
   ],
   "source": [
    "query = \"\"\"\n",
    "SELECT rental_rate FROM film LIMIT 2;\n",
    "\"\"\"\n",
    "cursor.execute(query)\n",
    "cursor.fetchall()\n",
    "# [(Decimal('0.99'),), (Decimal('4.99'),)]"
   ]
  },
  {
   "cell_type": "markdown",
   "id": "cardiovascular-thumb",
   "metadata": {},
   "source": [
    "And now with `round`."
   ]
  },
  {
   "cell_type": "code",
   "execution_count": 24,
   "id": "comfortable-charleston",
   "metadata": {},
   "outputs": [
    {
     "data": {
      "text/plain": [
       "[(Decimal('1.0'),), (Decimal('5.0'),)]"
      ]
     },
     "execution_count": 24,
     "metadata": {},
     "output_type": "execute_result"
    }
   ],
   "source": [
    "query = \"\"\"\n",
    "SELECT ROUND(rental_rate, 1) FROM film LIMIT 2;\n",
    "\"\"\"\n",
    "cursor.execute(query)\n",
    "cursor.fetchall()\n",
    "# [(Decimal('1.0'),), (Decimal('5.0'),)]"
   ]
  },
  {
   "cell_type": "markdown",
   "id": "handed-swift",
   "metadata": {},
   "source": [
    "> With `round` the second argument specifies the number of decimal points to round to."
   ]
  },
  {
   "cell_type": "markdown",
   "id": "north-nickel",
   "metadata": {},
   "source": [
    "2. modulo"
   ]
  },
  {
   "cell_type": "markdown",
   "id": "vertical-hours",
   "metadata": {},
   "source": [
    "There is also a modulo command in SQL.  For example, let's use it to select every other customer."
   ]
  },
  {
   "cell_type": "code",
   "execution_count": 26,
   "id": "global-problem",
   "metadata": {},
   "outputs": [
    {
     "data": {
      "text/plain": [
       "[(1, 'MARY'), (3, 'LINDA'), (5, 'ELIZABETH'), (7, 'MARIA'), (9, 'MARGARET')]"
      ]
     },
     "execution_count": 26,
     "metadata": {},
     "output_type": "execute_result"
    }
   ],
   "source": [
    "conn, cursor = get_cursor()\n",
    "query = \"\"\"\n",
    "SELECT customer_id, first_name FROM customer \n",
    "WHERE MOD(customer_id, 2) = 1 LIMIT 5;\n",
    "\"\"\"\n",
    "cursor.execute(query)\n",
    "cursor.fetchall()\n",
    "# [(1, 'MARY'), (3, 'LINDA'), (5, 'ELIZABETH'), (7, 'MARIA'), (9, 'MARGARET')]"
   ]
  },
  {
   "cell_type": "markdown",
   "id": "inclusive-fiction",
   "metadata": {},
   "source": [
    "* absolute value"
   ]
  },
  {
   "cell_type": "markdown",
   "id": "patient-nomination",
   "metadata": {},
   "source": [
    "Finally we can use `ABS` to calculate the absolute value of an number in postgres.  We do not have any negative values in our database, but we can still show an example."
   ]
  },
  {
   "cell_type": "code",
   "execution_count": 28,
   "id": "moral-drilling",
   "metadata": {},
   "outputs": [
    {
     "data": {
      "text/plain": [
       "[(5,)]"
      ]
     },
     "execution_count": 28,
     "metadata": {},
     "output_type": "execute_result"
    }
   ],
   "source": [
    "query = \"\"\"\n",
    "SELECT ABS(-5)\"\"\"\n",
    "cursor.execute(query)\n",
    "cursor.fetchall()"
   ]
  },
  {
   "cell_type": "markdown",
   "id": "crazy-champion",
   "metadata": {},
   "source": [
    "> So even if we don't have the data, we can still practice by ommitting a `FROM` statement."
   ]
  },
  {
   "cell_type": "markdown",
   "id": "exciting-amplifier",
   "metadata": {},
   "source": [
    "### A note on casting "
   ]
  },
  {
   "cell_type": "markdown",
   "id": "private-catch",
   "metadata": {},
   "source": [
    "Now that we know how to work with different datatypes in postgres, let's make sure we know how to convert from one datatype to another.  We do so through casting."
   ]
  },
  {
   "cell_type": "markdown",
   "id": "supported-monkey",
   "metadata": {},
   "source": [
    "For example, let's use casting to convert the rental rate to an integer."
   ]
  },
  {
   "cell_type": "code",
   "execution_count": 23,
   "id": "explicit-finish",
   "metadata": {},
   "outputs": [
    {
     "data": {
      "text/plain": [
       "[('ACADEMY DINOSAUR', 1), ('ACE GOLDFINGER', 5)]"
      ]
     },
     "execution_count": 23,
     "metadata": {},
     "output_type": "execute_result"
    }
   ],
   "source": [
    "conn, cursor = get_cursor()\n",
    "\n",
    "query = \"\"\"\n",
    "SELECT title, rental_rate::integer FROM film LIMIT 2;\n",
    "\"\"\"\n",
    "cursor.execute(query)\n",
    "cursor.fetchall()"
   ]
  },
  {
   "cell_type": "markdown",
   "id": "engaged-jimmy",
   "metadata": {},
   "source": [
    "As you have guessed the `::` means to convert to a different type -- above from decimal to integer.  Oftentimes, we will use casting to convert to an integer.  But really we can cast to any valid datatype that we choose.   "
   ]
  },
  {
   "cell_type": "markdown",
   "id": "agricultural-guest",
   "metadata": {},
   "source": [
    "For example, a good use of casting is to convert into a date or a timestamp.  For example, if we have text values of `'2015-01-01'` or `'01-OCT-2015'` we can convert them into dates."
   ]
  },
  {
   "cell_type": "code",
   "execution_count": 25,
   "id": "social-logic",
   "metadata": {},
   "outputs": [],
   "source": [
    "query = '''\n",
    "SELECT '01-OCT-2015'::date;\n",
    "'''\n",
    "cursor.execute(query)"
   ]
  },
  {
   "cell_type": "code",
   "execution_count": 26,
   "id": "rational-brisbane",
   "metadata": {},
   "outputs": [
    {
     "data": {
      "text/plain": [
       "[(datetime.date(2015, 10, 1),)]"
      ]
     },
     "execution_count": 26,
     "metadata": {},
     "output_type": "execute_result"
    }
   ],
   "source": [
    "cursor.fetchall()"
   ]
  },
  {
   "cell_type": "markdown",
   "id": "miniature-dealer",
   "metadata": {},
   "source": [
    "### Summary"
   ]
  },
  {
   "cell_type": "markdown",
   "id": "invalid-explorer",
   "metadata": {},
   "source": [
    "In this lesson, we saw how to work with different datatypes in postgres.  Let's review some of our functions. "
   ]
  },
  {
   "cell_type": "markdown",
   "id": "early-final",
   "metadata": {},
   "source": [
    "* strings\n",
    "\n",
    "```SQL\n",
    "--  slicing\n",
    "SELECT left(first_name, 3) FROM customer;\n",
    "-- [('MAR',), ('PAT',), ('LIN',), ('BAR',), ('ELI',)]\n",
    "\n",
    "-- concatenation\n",
    "SELECT concat(first_name, ' ',last_name) FROM customer;\n",
    "-- [('MARYSMITH',), ('PATRICIAJOHNSON',)]\n",
    "\n",
    "-- splitting data\n",
    "SELECT split_part(address, ' ', 2) FROM address;\n",
    "-- [('MySakila',), ('MySQL',)]\n",
    "```"
   ]
  },
  {
   "cell_type": "markdown",
   "id": "charming-envelope",
   "metadata": {},
   "source": [
    "* datetimes\n",
    "\n",
    "```SQL\n",
    "-- extract month\n",
    "SELECT  extract(month from create_date) FROM customer;\n",
    "-- [(2.0,), (2.0,), (2.0,), (2.0,), (2.0,)]\n",
    "\n",
    "-- extract doy\n",
    "SELECT  extract(doy from create_date) FROM customer;\n",
    "-- [(45.0,), (45.0,), (45.0,), (45.0,), (45.0,)]\n",
    "```"
   ]
  },
  {
   "cell_type": "markdown",
   "id": "processed-welsh",
   "metadata": {},
   "source": [
    "* numerical data\n",
    "\n",
    "```SQL\n",
    "-- round\n",
    "SELECT ROUND(rental_rate, 2) FROM film;\n",
    "-- [(Decimal('1.0'),), (Decimal('5.0'),)]\n",
    "\n",
    "-- modulo \n",
    "SELECT customer_id, first_name FROM customer \n",
    "WHERE MOD(customer_id, 2) = 1 LIMIT 5;\n",
    "-- [(1, 'MARY'), (3, 'LINDA'), (5, 'ELIZABETH')]\n",
    "```"
   ]
  },
  {
   "cell_type": "markdown",
   "id": "approved-moldova",
   "metadata": {},
   "source": [
    "* casting \n",
    "\n",
    "```SQL\n",
    "SELECT title, rental_rate::integer FROM film LIMIT 2;\n",
    "-- [('ACADEMY DINOSAUR', 1), ('ACE GOLDFINGER', 5)]\n",
    "```"
   ]
  },
  {
   "cell_type": "markdown",
   "id": "solar-flexibility",
   "metadata": {},
   "source": [
    "### Resources\n",
    "\n",
    "[String Operators](https://www.postgresql.org/docs/9.1/functions-string.html)\n",
    "\n",
    "[Datetime Operators](https://www.postgresql.org/docs/9.1/functions-datetime.html)"
   ]
  }
 ],
 "metadata": {
  "kernelspec": {
   "display_name": "Python 3 (ipykernel)",
   "language": "python",
   "name": "python3"
  },
  "language_info": {
   "codemirror_mode": {
    "name": "ipython",
    "version": 3
   },
   "file_extension": ".py",
   "mimetype": "text/x-python",
   "name": "python",
   "nbconvert_exporter": "python",
   "pygments_lexer": "ipython3",
   "version": "3.9.12"
  }
 },
 "nbformat": 4,
 "nbformat_minor": 5
}
