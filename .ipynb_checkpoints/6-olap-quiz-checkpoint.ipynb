{
 "cells": [
  {
   "cell_type": "markdown",
   "id": "53e49d81-ae5e-4220-9866-9e499763972e",
   "metadata": {},
   "source": [
    "# OLAP Quiz"
   ]
  },
  {
   "cell_type": "markdown",
   "id": "4fdd840e-c08f-40c5-9e87-0b6e82441128",
   "metadata": {},
   "source": [
    "Write out responses to the following."
   ]
  },
  {
   "cell_type": "markdown",
   "id": "77d86f13-5e97-4b33-a364-b5026fc18f13",
   "metadata": {},
   "source": [
    "1. What types of topics or entities are fact tables generally about?"
   ]
  },
  {
   "cell_type": "markdown",
   "id": "137cdab1-8b17-4221-ae5b-ae32750cdff4",
   "metadata": {},
   "source": []
  },
  {
   "cell_type": "markdown",
   "id": "f287bd88-7a29-4715-bf61-224bfcc71099",
   "metadata": {},
   "source": [
    "2. What types of topics or entities are generally reserved for dimension tables?\n"
   ]
  },
  {
   "cell_type": "markdown",
   "id": "0124f7ad-28b8-4374-aedc-b17978b20960",
   "metadata": {},
   "source": []
  },
  {
   "cell_type": "markdown",
   "id": "48de5f1c-1466-4841-bae0-b5bee7f63b19",
   "metadata": {},
   "source": [
    "3. In terms of datatypes, how do fact tables and dimension tables generally differ?\n"
   ]
  },
  {
   "cell_type": "markdown",
   "id": "080b3747-9379-4dfb-8c7d-105f3c02def2",
   "metadata": {},
   "source": []
  },
  {
   "cell_type": "markdown",
   "id": "4d43e179-317d-481b-b08e-74f98a9c8045",
   "metadata": {},
   "source": [
    "4. Do OLTP tables generally have more or fewer columns than tables in an OLAP database?   \n"
   ]
  },
  {
   "cell_type": "markdown",
   "id": "7e605949-1be7-446c-9fed-7f8537bdfe56",
   "metadata": {},
   "source": []
  },
  {
   "cell_type": "markdown",
   "id": "205a0ace-f3b0-4673-aa3c-dac05debc21f",
   "metadata": {},
   "source": [
    "5. What are some reasons for structuring tables in an OLTP database differently from tables in an OLAP database?\n"
   ]
  },
  {
   "cell_type": "markdown",
   "id": "2a3f4e81-0dfc-4b4d-a323-6a37ce8c4fde",
   "metadata": {},
   "source": []
  },
  {
   "cell_type": "markdown",
   "id": "7a99e18a-9580-46a7-a8a9-990504d019d4",
   "metadata": {},
   "source": [
    "6. What does it mean for our data to be in normal form (AKA third normal form)?\n",
    "\n"
   ]
  },
  {
   "cell_type": "markdown",
   "id": "402d62ee-f76c-425b-825a-c7708b134e16",
   "metadata": {},
   "source": []
  }
 ],
 "metadata": {
  "kernelspec": {
   "display_name": "Python 3 (ipykernel)",
   "language": "python",
   "name": "python3"
  },
  "language_info": {
   "codemirror_mode": {
    "name": "ipython",
    "version": 3
   },
   "file_extension": ".py",
   "mimetype": "text/x-python",
   "name": "python",
   "nbconvert_exporter": "python",
   "pygments_lexer": "ipython3",
   "version": "3.10.6"
  }
 },
 "nbformat": 4,
 "nbformat_minor": 5
}
