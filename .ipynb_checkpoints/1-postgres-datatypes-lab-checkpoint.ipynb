{
 "cells": [
  {
   "cell_type": "markdown",
   "id": "consecutive-helen",
   "metadata": {},
   "source": [
    "# Postgres Datatypes Lab"
   ]
  },
  {
   "cell_type": "markdown",
   "id": "organized-steel",
   "metadata": {},
   "source": [
    "### Introduction"
   ]
  },
  {
   "cell_type": "markdown",
   "id": "crude-collectible",
   "metadata": {},
   "source": [
    "In this lesson, we'll practice working with datatypes in postgres.  To do so, let's continue to use  our pagila database."
   ]
  },
  {
   "cell_type": "markdown",
   "id": "excellent-crash",
   "metadata": {},
   "source": [
    "### Getting setup"
   ]
  },
  {
   "cell_type": "code",
   "execution_count": 7,
   "id": "subtle-rough",
   "metadata": {},
   "outputs": [],
   "source": [
    "import psycopg2\n",
    "def get_cursor():\n",
    "    conn = psycopg2.connect(\n",
    "    host=\"127.0.0.1\",\n",
    "    database=\"pagila\",\n",
    "    user=\"postgres\",\n",
    "    password=\"postgres\")\n",
    "    \n",
    "    cursor = conn.cursor()\n",
    "    return conn, cursor"
   ]
  },
  {
   "cell_type": "code",
   "execution_count": 8,
   "id": "settled-despite",
   "metadata": {},
   "outputs": [],
   "source": [
    "conn, cursor = get_cursor()"
   ]
  },
  {
   "cell_type": "markdown",
   "id": "developing-clarity",
   "metadata": {},
   "source": [
    "Use the information on the `film` table to find film rating `(G, PG, R)` and the average `rental_rate` for each `rating`."
   ]
  },
  {
   "cell_type": "code",
   "execution_count": 10,
   "id": "angry-broadway",
   "metadata": {},
   "outputs": [],
   "source": [
    "# cursor.execute(\"\"\" \"\"\")\n",
    "\n",
    "# cursor.fetchall()\n",
    "\n",
    "# [('PG', Decimal('3.0518556701030928')),\n",
    "#  ('R', Decimal('2.9387179487179487')),\n",
    "#  ('PG-13', Decimal('3.0348430493273543')),\n",
    "#  ('NC-17', Decimal('2.9709523809523810')),\n",
    "#  ('G', Decimal('2.8888764044943820'))]"
   ]
  },
  {
   "cell_type": "markdown",
   "id": "interpreted-isaac",
   "metadata": {},
   "source": [
    "Now round these to a single decimal place and order from highest to lowest rate."
   ]
  },
  {
   "cell_type": "code",
   "execution_count": 9,
   "id": "alike-captain",
   "metadata": {},
   "outputs": [
    {
     "data": {
      "text/plain": [
       "[('PG', Decimal('3.1')),\n",
       " ('PG-13', Decimal('3.0')),\n",
       " ('NC-17', Decimal('3.0')),\n",
       " ('R', Decimal('2.9')),\n",
       " ('G', Decimal('2.9'))]"
      ]
     },
     "execution_count": 9,
     "metadata": {},
     "output_type": "execute_result"
    }
   ],
   "source": [
    "\n",
    "\n",
    "\n",
    "# [('PG', Decimal('3.1')),\n",
    "#  ('PG-13', Decimal('3.0')),\n",
    "#  ('NC-17', Decimal('3.0')),\n",
    "#  ('R', Decimal('2.9')),\n",
    "#  ('G', Decimal('2.9'))]"
   ]
  },
  {
   "cell_type": "markdown",
   "id": "special-rescue",
   "metadata": {},
   "source": [
    "Next, display the first three actors in the `actor` table in the format of `last_name, first_name`."
   ]
  },
  {
   "cell_type": "code",
   "execution_count": 35,
   "id": "pointed-insider",
   "metadata": {},
   "outputs": [
    {
     "data": {
      "text/plain": [
       "[('GUINESS, PENELOPE',), ('WAHLBERG, NICK',), ('CHASE, ED',)]"
      ]
     },
     "execution_count": 35,
     "metadata": {},
     "output_type": "execute_result"
    }
   ],
   "source": [
    "\n",
    "\n",
    "# [('GUINESS, PENELOPE',), ('WAHLBERG, NICK',), ('CHASE, ED',)]"
   ]
  },
  {
   "cell_type": "markdown",
   "id": "abroad-barrier",
   "metadata": {},
   "source": [
    "If we look at the `address` field under address, there are many different words for road.\n",
    "\n",
    "> For example, we see the words Drive and Boulevard in the first two entries."
   ]
  },
  {
   "cell_type": "code",
   "execution_count": 12,
   "id": "billion-retreat",
   "metadata": {},
   "outputs": [
    {
     "data": {
      "text/plain": [
       "[('47 MySakila Drive',), ('28 MySQL Boulevard',)]"
      ]
     },
     "execution_count": 12,
     "metadata": {},
     "output_type": "execute_result"
    }
   ],
   "source": [
    "cursor.execute(\"\"\"SELECT address FROM address LIMIT 2;\"\"\")\n",
    "cursor.fetchall()"
   ]
  },
  {
   "cell_type": "markdown",
   "id": "valuable-painting",
   "metadata": {},
   "source": [
    "Get a list of the first five words used for road."
   ]
  },
  {
   "cell_type": "code",
   "execution_count": 13,
   "id": "indirect-belize",
   "metadata": {},
   "outputs": [
    {
     "data": {
      "text/plain": [
       "[('Drive',), ('Boulevard',), ('Lane',), ('Drive',), ('Way',)]"
      ]
     },
     "execution_count": 13,
     "metadata": {},
     "output_type": "execute_result"
    }
   ],
   "source": [
    "conn, cursor = get_cursor()\n",
    "\n",
    "cursor.execute(\"\"\"SELECT split_part(address, ' ', 3) FROM address LIMIT 5;\"\"\")\n",
    "cursor.fetchall()\n",
    "\n",
    "# [('Drive',), ('Boulevard',), ('Lane',), ('Drive',), ('Way',)]"
   ]
  },
  {
   "cell_type": "markdown",
   "id": "failing-fossil",
   "metadata": {},
   "source": [
    "> Bonus: Next let's find the top five words used most as the third word."
   ]
  },
  {
   "cell_type": "code",
   "execution_count": 17,
   "id": "common-balloon",
   "metadata": {},
   "outputs": [
    {
     "data": {
      "text/plain": [
       "[('Parkway', 61), ('Lane', 55), ('Drive', 51), ('Manor', 49), ('Street', 49)]"
      ]
     },
     "execution_count": 17,
     "metadata": {},
     "output_type": "execute_result"
    }
   ],
   "source": [
    "# cursor.execute(\"\"\" \"\"\")\n",
    "\n",
    "\n",
    "# cursor.fetchall()\n",
    "\n",
    "# [('Parkway', 61), ('Lane', 55), ('Drive', 51), ('Manor', 49), ('Street', 49)]"
   ]
  },
  {
   "cell_type": "markdown",
   "id": "valued-spank",
   "metadata": {},
   "source": [
    "### Date Times"
   ]
  },
  {
   "cell_type": "markdown",
   "id": "distributed-baltimore",
   "metadata": {},
   "source": [
    "Now use the information in the `customer` table to determine  which year had the most amount of customers inputted into the system."
   ]
  },
  {
   "cell_type": "code",
   "execution_count": 19,
   "id": "personalized-establishment",
   "metadata": {},
   "outputs": [
    {
     "data": {
      "text/plain": [
       "[(2020.0, 599)]"
      ]
     },
     "execution_count": 19,
     "metadata": {},
     "output_type": "execute_result"
    }
   ],
   "source": [
    "\n",
    "\n",
    "\n",
    "# [(2020.0, 599)]"
   ]
  },
  {
   "cell_type": "markdown",
   "id": "settled-abortion",
   "metadata": {},
   "source": [
    "So we can see that all of the customers were created in 2020."
   ]
  },
  {
   "cell_type": "markdown",
   "id": "sharp-surveillance",
   "metadata": {},
   "source": [
    "Instead of having `2020` be a decimal, convert that value to a varchar."
   ]
  },
  {
   "cell_type": "code",
   "execution_count": 20,
   "id": "cheap-brunswick",
   "metadata": {},
   "outputs": [
    {
     "data": {
      "text/plain": [
       "[('2020', 599)]"
      ]
     },
     "execution_count": 20,
     "metadata": {},
     "output_type": "execute_result"
    }
   ],
   "source": [
    "\n",
    "\n",
    "\n",
    "\n",
    "# [('2020', 599)]"
   ]
  },
  {
   "cell_type": "markdown",
   "id": "appointed-craft",
   "metadata": {},
   "source": [
    "### Summary"
   ]
  },
  {
   "cell_type": "markdown",
   "id": "incoming-pierre",
   "metadata": {},
   "source": [
    "In this lesson, we worked with numeric, datetime, and text data in postgres.  We also reviewed casting data from one datatype into another."
   ]
  },
  {
   "cell_type": "markdown",
   "id": "square-perry",
   "metadata": {},
   "source": [
    "### Resources\n",
    "\n",
    "[Searching with tsvector](https://www.compose.com/articles/mastering-postgresql-tools-full-text-search-and-phrase-search/)"
   ]
  }
 ],
 "metadata": {
  "kernelspec": {
   "display_name": "Python 3",
   "language": "python",
   "name": "python3"
  },
  "language_info": {
   "codemirror_mode": {
    "name": "ipython",
    "version": 3
   },
   "file_extension": ".py",
   "mimetype": "text/x-python",
   "name": "python",
   "nbconvert_exporter": "python",
   "pygments_lexer": "ipython3",
   "version": "3.8.6"
  }
 },
 "nbformat": 4,
 "nbformat_minor": 5
}
