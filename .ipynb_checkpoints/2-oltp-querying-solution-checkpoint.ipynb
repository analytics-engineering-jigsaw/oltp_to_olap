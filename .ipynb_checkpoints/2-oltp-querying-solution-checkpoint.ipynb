{
 "cells": [
  {
   "cell_type": "markdown",
   "id": "informal-dictionary",
   "metadata": {},
   "source": [
    "# OLTP Querying Lab"
   ]
  },
  {
   "cell_type": "markdown",
   "id": "assumed-expansion",
   "metadata": {},
   "source": [
    "### Introduction"
   ]
  },
  {
   "cell_type": "markdown",
   "id": "medieval-microphone",
   "metadata": {},
   "source": [
    "In this lesson, we'll practice querying using query relations on our pagila database.  Let's get started. "
   ]
  },
  {
   "cell_type": "markdown",
   "id": "weird-piece",
   "metadata": {},
   "source": [
    "### Seeing the model"
   ]
  },
  {
   "cell_type": "markdown",
   "id": "designing-analysis",
   "metadata": {},
   "source": [
    "At this point, it's worth getting a sense of the relationships in our OLTP.  We can begin by taking a look at the various tables."
   ]
  },
  {
   "cell_type": "markdown",
   "id": "determined-cherry",
   "metadata": {},
   "source": [
    "<img src=\"./tables.png\" width=\"60%\">"
   ]
  },
  {
   "cell_type": "markdown",
   "id": "cross-conditioning",
   "metadata": {},
   "source": [
    "And from there, can identify the tables that have a number of foreign keys -- called our join tables.  Let's take some educated guesses as to which tables may be our join tables.\n",
    "\n",
    "Before even checking for yourself, identify three tables above that mainly consist of foreign keys."
   ]
  },
  {
   "cell_type": "markdown",
   "id": "veterinary-canada",
   "metadata": {
    "tags": []
   },
   "source": [
    "### Performing Queries"
   ]
  },
  {
   "cell_type": "markdown",
   "id": "varied-condition",
   "metadata": {},
   "source": [
    "Ok, now let's perform some queries.  First, we'll connect to our database."
   ]
  },
  {
   "cell_type": "code",
   "execution_count": 12,
   "id": "golden-opening",
   "metadata": {},
   "outputs": [],
   "source": [
    "import psycopg2\n",
    "def get_cursor():\n",
    "    conn = psycopg2.connect(\n",
    "    host=\"127.0.0.1\",\n",
    "    database=\"pagila\",\n",
    "    user=\"postgres\",\n",
    "    password=\"postgres\")\n",
    "    \n",
    "    cursor = conn.cursor()\n",
    "    return conn, cursor"
   ]
  },
  {
   "cell_type": "code",
   "execution_count": 26,
   "id": "complicated-administrator",
   "metadata": {},
   "outputs": [],
   "source": [
    "conn, cursor = get_cursor()"
   ]
  },
  {
   "cell_type": "markdown",
   "id": "listed-trout",
   "metadata": {},
   "source": [
    "Now for our first query.  Let's find the title of every film that `JUDY DEAN` played in.  Limit it to five films."
   ]
  },
  {
   "cell_type": "code",
   "execution_count": 22,
   "id": "reverse-parts",
   "metadata": {},
   "outputs": [
    {
     "data": {
      "text/plain": [
       "[('ALADDIN CALENDAR',),\n",
       " ('ARACHNOPHOBIA ROLLERCOASTER',),\n",
       " ('BALLROOM MOCKINGBIRD',),\n",
       " ('CYCLONE FAMILY',),\n",
       " ('DROP WATERFRONT',)]"
      ]
     },
     "execution_count": 22,
     "metadata": {},
     "output_type": "execute_result"
    }
   ],
   "source": [
    "query = \"\"\"SELECT film.title FROM actor \n",
    "JOIN film_actor ON actor.actor_id = film_actor.actor_id\n",
    "JOIN film on film.film_id = film_actor.film_id\n",
    "WHERE first_name = 'JUDY' AND last_name = 'DEAN' ORDER BY film.title LIMIT 5;\"\"\"\n",
    "cursor.execute(query)\n",
    "cursor.fetchall()\n",
    "\n",
    "# [('ALADDIN CALENDAR',),\n",
    "#  ('ARACHNOPHOBIA ROLLERCOASTER',),\n",
    "#  ('BALLROOM MOCKINGBIRD',),\n",
    "#  ('CYCLONE FAMILY',),\n",
    "#  ('DROP WATERFRONT',)]"
   ]
  },
  {
   "cell_type": "markdown",
   "id": "stopped-addiction",
   "metadata": {},
   "source": [
    "Next, let's find the titles of all of the `Action` films in alphabetical order.\n",
    "\n",
    "> Limit to the first five films."
   ]
  },
  {
   "cell_type": "code",
   "execution_count": 29,
   "id": "operational-uganda",
   "metadata": {},
   "outputs": [
    {
     "data": {
      "text/plain": [
       "[('ACADEMY DINOSAUR',),\n",
       " ('ACE GOLDFINGER',),\n",
       " ('ADAPTATION HOLES',),\n",
       " ('AFFAIR PREJUDICE',),\n",
       " ('AFRICAN EGG',)]"
      ]
     },
     "execution_count": 29,
     "metadata": {},
     "output_type": "execute_result"
    }
   ],
   "source": [
    "query = \"\"\"SELECT film.title FROM film \n",
    "JOIN film_category on film_category.film_id = film.film_id\n",
    "JOIN category on category.category_id = film_category.category_id\n",
    "LIMIT 5;\"\"\"\n",
    "\n",
    "cursor.execute(query)\n",
    "cursor.fetchall()\n",
    "# [('ACADEMY DINOSAUR',),\n",
    "#  ('ACE GOLDFINGER',),\n",
    "#  ('ADAPTATION HOLES',),\n",
    "#  ('AFFAIR PREJUDICE',),\n",
    "#  ('AFRICAN EGG',)]"
   ]
  },
  {
   "cell_type": "markdown",
   "id": "dedicated-proportion",
   "metadata": {},
   "source": [
    "Let's finish up by looking at some transactions.  Find the titles of all of the films that `PATRICIA JOHNSON` rented."
   ]
  },
  {
   "cell_type": "markdown",
   "id": "resident-nowhere",
   "metadata": {},
   "source": [
    "> Limit to the first five titles."
   ]
  },
  {
   "cell_type": "code",
   "execution_count": 31,
   "id": "intimate-posting",
   "metadata": {},
   "outputs": [
    {
     "data": {
      "text/plain": [
       "[('DOORS PRESIDENT',),\n",
       " ('BLACKOUT PRIVATE',),\n",
       " ('TOMORROW HUSTLER',),\n",
       " ('MUMMY CREATURES',),\n",
       " ('CLUELESS BUCKET',)]"
      ]
     },
     "execution_count": 31,
     "metadata": {},
     "output_type": "execute_result"
    }
   ],
   "source": [
    "query = \"\"\"\n",
    "SELECT film.title FROM film \n",
    "JOIN inventory ON film.film_id = inventory.film_id\n",
    "JOIN rental ON rental.inventory_id = inventory.inventory_id\n",
    "JOIN customer ON rental.customer_id = customer.customer_id\n",
    "WHERE customer.first_name = 'PATRICIA' AND customer.last_name = 'JOHNSON'\n",
    "LIMIT 5;\n",
    "\"\"\"\n",
    "\n",
    "cursor.execute(query)\n",
    "cursor.fetchall()\n",
    "\n",
    "# [('DOORS PRESIDENT',),\n",
    "#  ('BLACKOUT PRIVATE',),\n",
    "#  ('TOMORROW HUSTLER',),\n",
    "#  ('MUMMY CREATURES',),\n",
    "#  ('CLUELESS BUCKET',)]"
   ]
  },
  {
   "cell_type": "markdown",
   "id": "valid-motion",
   "metadata": {},
   "source": [
    "### Summary"
   ]
  },
  {
   "cell_type": "markdown",
   "id": "million-updating",
   "metadata": {},
   "source": [
    "In this lesson, we practiced queries on our OLTP database.  The key is to identify the tables that have foreign keys, as they will be key in performing our queries.  Here, the main tables to pay attention to were the tables `film_actor`, `film_category`,`inventory`, and most importantly `rental`.  "
   ]
  }
 ],
 "metadata": {
  "kernelspec": {
   "display_name": "Python 3 (ipykernel)",
   "language": "python",
   "name": "python3"
  },
  "language_info": {
   "codemirror_mode": {
    "name": "ipython",
    "version": 3
   },
   "file_extension": ".py",
   "mimetype": "text/x-python",
   "name": "python",
   "nbconvert_exporter": "python",
   "pygments_lexer": "ipython3",
   "version": "3.9.7"
  }
 },
 "nbformat": 4,
 "nbformat_minor": 5
}
