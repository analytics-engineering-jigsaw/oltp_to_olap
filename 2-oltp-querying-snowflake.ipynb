{
 "cells": [
  {
   "cell_type": "markdown",
   "id": "adverse-cancer",
   "metadata": {},
   "source": [
    "# OLTP Querying Lab"
   ]
  },
  {
   "cell_type": "markdown",
   "id": "another-september",
   "metadata": {},
   "source": [
    "### Introduction"
   ]
  },
  {
   "cell_type": "markdown",
   "id": "governmental-berry",
   "metadata": {},
   "source": [
    "In this lesson, we'll practice querying using query relations on our pagila database.  Let's get started. "
   ]
  },
  {
   "cell_type": "markdown",
   "id": "active-founder",
   "metadata": {},
   "source": [
    "### Seeing our tables"
   ]
  },
  {
   "cell_type": "markdown",
   "id": "9cd76eb6-071a-46a2-9907-e039c1e43542",
   "metadata": {},
   "source": [
    "1. Let's begin setting our current schema to the `PAGILA_RDS_PUBLIC` schema in the `PAGILA_INC` database.  Use the `USE` command to accomplish this.\n",
    "\n",
    "> If done propertly, we should see `Statement executed successfully.` below."
   ]
  },
  {
   "cell_type": "markdown",
   "id": "540af0e3-13db-4a18-9cbe-e3a3593533ca",
   "metadata": {},
   "source": [
    "2. Then use the proper snowflake command to view the list of tables in that schema."
   ]
  },
  {
   "cell_type": "markdown",
   "id": "ca7fde08-526b-46ee-8109-99dbd92f5e94",
   "metadata": {},
   "source": [
    "> <img src=\"./schema-tables.png\" width=\"80%\">"
   ]
  },
  {
   "cell_type": "markdown",
   "id": "0d6132a1-1dcc-4435-9fd0-d442f220c213",
   "metadata": {},
   "source": [
    "3. Finally, let's view the columns in the `film_actor` table using the `describe` command."
   ]
  },
  {
   "cell_type": "markdown",
   "id": "94438a25-a58e-44a5-bfe9-717af71f6549",
   "metadata": {},
   "source": [
    "> <img src=\"./describe-command.png\" width=\"80%\">"
   ]
  },
  {
   "cell_type": "markdown",
   "id": "hybrid-cross",
   "metadata": {},
   "source": [
    "### Performing Queries"
   ]
  },
  {
   "cell_type": "markdown",
   "id": "36dcb37f-8dc4-43c7-8752-7effc65faf53",
   "metadata": {},
   "source": [
    "<img src=\"./sakila-erd.png\" width=\"80%\">"
   ]
  },
  {
   "cell_type": "markdown",
   "id": "annoying-positive",
   "metadata": {},
   "source": [
    "Now for our first query.  Let's find the title of every film that `JUDY DEAN` played in.  Limit it to five films."
   ]
  },
  {
   "cell_type": "markdown",
   "id": "98bd858a-c87b-4a60-be3e-451c367fe6c4",
   "metadata": {},
   "source": [
    "> <img src=\"./results-dean.png\" width=\"60%\">"
   ]
  },
  {
   "cell_type": "markdown",
   "id": "caring-quarterly",
   "metadata": {},
   "source": [
    "Next, let's find the titles of all of the `Action` films in alphabetical order.\n",
    "\n",
    "> Limit to the first five films."
   ]
  },
  {
   "cell_type": "markdown",
   "id": "5ecbd197-d57d-4757-a16c-637c9ccd9f73",
   "metadata": {},
   "source": [
    "> <img src=\"./alpha-films.png\" width=\"60%\">"
   ]
  },
  {
   "cell_type": "markdown",
   "id": "matched-rebecca",
   "metadata": {},
   "source": [
    "Let's finish up by looking at some transactions.  Find the titles of all of the films that `PATRICIA JOHNSON` rented ordered alphabetically."
   ]
  },
  {
   "cell_type": "markdown",
   "id": "promotional-pantyhose",
   "metadata": {},
   "source": [
    "> Limit to the first five titles."
   ]
  },
  {
   "cell_type": "markdown",
   "id": "2691c631-0cd1-4e7c-a5eb-4a06145373e4",
   "metadata": {},
   "source": [
    "> <img src=\"./johnson.png\" width=\"60%\">"
   ]
  },
  {
   "cell_type": "markdown",
   "id": "eight-baker",
   "metadata": {},
   "source": [
    "### Summary"
   ]
  },
  {
   "cell_type": "markdown",
   "id": "civic-sapphire",
   "metadata": {},
   "source": [
    "In this lesson, we practiced queries on our OLTP database.  The key is to identify the tables that have foreign keys, as they will be key in performing our queries.  Here, the main tables to pay attention to were the tables `film_actor`, `film_category`,`inventory`, and most importantly `rental`.  "
   ]
  }
 ],
 "metadata": {
  "kernelspec": {
   "display_name": "Python 3 (ipykernel)",
   "language": "python",
   "name": "python3"
  },
  "language_info": {
   "codemirror_mode": {
    "name": "ipython",
    "version": 3
   },
   "file_extension": ".py",
   "mimetype": "text/x-python",
   "name": "python",
   "nbconvert_exporter": "python",
   "pygments_lexer": "ipython3",
   "version": "3.9.7"
  }
 },
 "nbformat": 4,
 "nbformat_minor": 5
}
