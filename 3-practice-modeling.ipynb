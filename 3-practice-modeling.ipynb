{
 "cells": [
  {
   "cell_type": "markdown",
   "id": "important-sweet",
   "metadata": {},
   "source": [
    "# Practice Modeling"
   ]
  },
  {
   "cell_type": "markdown",
   "id": "incredible-accreditation",
   "metadata": {},
   "source": [
    "### Introduction"
   ]
  },
  {
   "cell_type": "markdown",
   "id": "proud-recipe",
   "metadata": {},
   "source": [
    "In this lesson, we'll practice performing database modeling."
   ]
  },
  {
   "cell_type": "markdown",
   "id": "soviet-webster",
   "metadata": {},
   "source": [
    "### Flights and Pilots"
   ]
  },
  {
   "cell_type": "markdown",
   "id": "secure-bradford",
   "metadata": {},
   "source": [
    "Let's imagine that we have to design the database schema for a commercial airline.  This would be exceptionally complex, so for now, we will limit our task to just keeping track of the pilots on a given flight.  \n",
    "\n",
    "Our system should tell us what flights are planned in the future, and which pilots (there can be one or two) are flying each plane."
   ]
  },
  {
   "cell_type": "markdown",
   "id": "muslim-airport",
   "metadata": {},
   "source": [
    "<img src=\"./plane_ticket.png\" width=\"70%\">"
   ]
  },
  {
   "cell_type": "markdown",
   "id": "attached-commodity",
   "metadata": {},
   "source": [
    "Here are some items we **do not** need to keep track of:\n",
    "    \n",
    "* The airline (we are building this for delta)\n",
    "* The gate\n",
    "* The staff (other than the pilots)\n",
    "* Any customer information\n",
    "* Any information about the particular or kind of plane performing the flight"
   ]
  },
  {
   "cell_type": "markdown",
   "id": "vulnerable-opinion",
   "metadata": {},
   "source": [
    "Still, **we will** want to be able questions about different routes offered by Delta, scheduled flights, what pilots performed run which routes.\n",
    "\n",
    "The schema should be in third normal form -- meaning that there should be a single source of truth:\n",
    "\n",
    ">  \"every data element is mastered (or edited) in only one place.\""
   ]
  },
  {
   "cell_type": "markdown",
   "id": "appreciated-polls",
   "metadata": {},
   "source": [
    "And:"
   ]
  },
  {
   "cell_type": "markdown",
   "id": "promotional-thousand",
   "metadata": {},
   "source": [
    "> \"[every] non-key [attribute] must provide a fact about the key, the whole key, and nothing but the key\""
   ]
  },
  {
   "cell_type": "markdown",
   "id": "facial-medicare",
   "metadata": {},
   "source": [
    "Ok, feel free to write down your answers on a sheet of paper.  Give it a shot."
   ]
  },
  {
   "cell_type": "markdown",
   "id": "liberal-bolivia",
   "metadata": {},
   "source": [
    "### Resources\n",
    "\n",
    "[Additional Practice](http://www.databaseanswers.org/)\n",
    "\n",
    "[Student Assignments](http://www.databaseanswers.org/data_models/student_assignments/index.htm)\n",
    "\n",
    "[Call Center](http://www.databaseanswers.org/data_models/crm/call_centre_conceptual_erd.htm)"
   ]
  }
 ],
 "metadata": {
  "kernelspec": {
   "display_name": "Python 3",
   "language": "python",
   "name": "python3"
  },
  "language_info": {
   "codemirror_mode": {
    "name": "ipython",
    "version": 3
   },
   "file_extension": ".py",
   "mimetype": "text/x-python",
   "name": "python",
   "nbconvert_exporter": "python",
   "pygments_lexer": "ipython3",
   "version": "3.8.6"
  }
 },
 "nbformat": 4,
 "nbformat_minor": 5
}
