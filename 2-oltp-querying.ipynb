{
 "cells": [
  {
   "cell_type": "markdown",
   "id": "adverse-cancer",
   "metadata": {},
   "source": [
    "# OLTP Querying Lab"
   ]
  },
  {
   "cell_type": "markdown",
   "id": "another-september",
   "metadata": {},
   "source": [
    "### Introduction"
   ]
  },
  {
   "cell_type": "markdown",
   "id": "governmental-berry",
   "metadata": {},
   "source": [
    "In this lesson, we'll practice querying using query relations on our pagila database.  Let's get started. "
   ]
  },
  {
   "cell_type": "markdown",
   "id": "59e642a2-22c0-4548-91dd-510f5ecb5c0b",
   "metadata": {},
   "source": [
    "### Loading our Data"
   ]
  },
  {
   "cell_type": "markdown",
   "id": "6e016242-8aed-4ae9-8ec8-42bbf461731d",
   "metadata": {},
   "source": [
    "To work through this, and following material we'll refer to the pagila database located in the following repository: [pagila data](https://github.com/devrimgunduz/pagila)."
   ]
  },
  {
   "cell_type": "markdown",
   "id": "71f243ab-1a6f-421b-97d8-90e9ec2a5eed",
   "metadata": {},
   "source": [
    "To create the database, we can do the following:\n",
    "\n",
    "1. Clone down the [pagila data](https://github.com/xzilla/pagila) repository\n",
    "2. Create a new database in postgres (perhaps called `pagila`)\n",
    "3. Run the `pagila-schema.sql` file against the database to create the necessary tables\n",
    "4. Run the `pagila-data.sql` file against the database to insert the necessary data"
   ]
  },
  {
   "cell_type": "markdown",
   "id": "c5047ea1-b821-4c21-8097-7b03b8f18e6c",
   "metadata": {},
   "source": [
    "Next, we write a function that returns a connection to the database, as well as the cursor."
   ]
  },
  {
   "cell_type": "markdown",
   "id": "7d764a29-9d0a-485b-9416-d5da0760d60e",
   "metadata": {},
   "source": [
    "> Make sure that the name of the database aligns with the database you created, and that the `user` and `password` is appropriate."
   ]
  },
  {
   "cell_type": "code",
   "execution_count": 15,
   "id": "9f060480-4e20-47bc-a62f-94c463bcabce",
   "metadata": {},
   "outputs": [],
   "source": [
    "import psycopg2\n",
    "\n",
    "def get_cursor():\n",
    "    conn = psycopg2.connect(\n",
    "    database=\"pagila\",\n",
    "    user=\"postgres\",\n",
    "    password=\"postgres\")\n",
    "    cursor = conn.cursor()\n",
    "    return conn, cursor"
   ]
  },
  {
   "cell_type": "code",
   "execution_count": 10,
   "id": "8327912b-ba83-44d2-acc4-2c076bd3cd8e",
   "metadata": {},
   "outputs": [],
   "source": [
    "conn, cursor = get_cursor()"
   ]
  },
  {
   "cell_type": "markdown",
   "id": "892a0bf6-926f-4479-bd73-541a75c63d95",
   "metadata": {},
   "source": [
    "And then we can confirm that we can connect to the database by doing an initial query."
   ]
  },
  {
   "cell_type": "code",
   "execution_count": 13,
   "id": "fdb9cfd1-5809-4e43-8c4c-1236d5b97ac0",
   "metadata": {},
   "outputs": [],
   "source": [
    "cursor.execute('SELECT * FROM store LIMIT 1;')"
   ]
  },
  {
   "cell_type": "markdown",
   "id": "active-founder",
   "metadata": {},
   "source": [
    "### Seeing the model"
   ]
  },
  {
   "cell_type": "markdown",
   "id": "peaceful-vessel",
   "metadata": {},
   "source": [
    "At this point, it's worth getting a sense of the relationships in our OLTP.  We can begin by taking a look at the various tables."
   ]
  },
  {
   "cell_type": "markdown",
   "id": "racial-premium",
   "metadata": {},
   "source": [
    "<img src=\"./tables.png\" width=\"60%\">"
   ]
  },
  {
   "cell_type": "markdown",
   "id": "fundamental-tennis",
   "metadata": {},
   "source": [
    "And from there, can identify the tables that have a number of foreign keys -- called our join tables.  Let's take some educated guesses as to which tables may be our join tables.\n",
    "\n",
    "Before even checking for yourself, identify three tables above that mainly consist of foreign keys."
   ]
  },
  {
   "cell_type": "markdown",
   "id": "hybrid-cross",
   "metadata": {},
   "source": [
    "### Performing Queries"
   ]
  },
  {
   "cell_type": "markdown",
   "id": "mobile-commonwealth",
   "metadata": {},
   "source": [
    "Ok, now let's perform some queries.  First, we'll connect to our database."
   ]
  },
  {
   "cell_type": "code",
   "execution_count": 12,
   "id": "better-trauma",
   "metadata": {},
   "outputs": [],
   "source": [
    "import psycopg2\n",
    "def get_cursor():\n",
    "    conn = psycopg2.connect(\n",
    "    host=\"127.0.0.1\",\n",
    "    database=\"pagila\",\n",
    "    user=\"postgres\",\n",
    "    password=\"postgres\")\n",
    "    \n",
    "    cursor = conn.cursor()\n",
    "    return conn, cursor"
   ]
  },
  {
   "cell_type": "code",
   "execution_count": 26,
   "id": "moving-protocol",
   "metadata": {},
   "outputs": [],
   "source": [
    "conn, cursor = get_cursor()"
   ]
  },
  {
   "cell_type": "markdown",
   "id": "annoying-positive",
   "metadata": {},
   "source": [
    "Now for our first query.  Let's find the title of every film that `JUDY DEAN` played in.  Limit it to five films."
   ]
  },
  {
   "cell_type": "code",
   "execution_count": 22,
   "id": "configured-stanley",
   "metadata": {},
   "outputs": [
    {
     "data": {
      "text/plain": [
       "[('ALADDIN CALENDAR',),\n",
       " ('ARACHNOPHOBIA ROLLERCOASTER',),\n",
       " ('BALLROOM MOCKINGBIRD',),\n",
       " ('CYCLONE FAMILY',),\n",
       " ('DROP WATERFRONT',)]"
      ]
     },
     "execution_count": 22,
     "metadata": {},
     "output_type": "execute_result"
    }
   ],
   "source": [
    "query = \"\"\" \"\"\"\n",
    "cursor.execute(query)\n",
    "cursor.fetchall()\n",
    "\n",
    "# [('ALADDIN CALENDAR',),\n",
    "#  ('ARACHNOPHOBIA ROLLERCOASTER',),\n",
    "#  ('BALLROOM MOCKINGBIRD',),\n",
    "#  ('CYCLONE FAMILY',),\n",
    "#  ('DROP WATERFRONT',)]"
   ]
  },
  {
   "cell_type": "markdown",
   "id": "caring-quarterly",
   "metadata": {},
   "source": [
    "Next, let's find the titles of all of the `Action` films.\n",
    "\n",
    "> Limit to the first five films."
   ]
  },
  {
   "cell_type": "code",
   "execution_count": 29,
   "id": "cleared-universe",
   "metadata": {},
   "outputs": [
    {
     "data": {
      "text/plain": [
       "[('ACADEMY DINOSAUR',),\n",
       " ('ACE GOLDFINGER',),\n",
       " ('ADAPTATION HOLES',),\n",
       " ('AFFAIR PREJUDICE',),\n",
       " ('AFRICAN EGG',)]"
      ]
     },
     "execution_count": 29,
     "metadata": {},
     "output_type": "execute_result"
    }
   ],
   "source": [
    "query = \"\"\" \"\"\"\n",
    "\n",
    "cursor.execute(query)\n",
    "cursor.fetchall()\n",
    "# [('ACADEMY DINOSAUR',),\n",
    "#  ('ACE GOLDFINGER',),\n",
    "#  ('ADAPTATION HOLES',),\n",
    "#  ('AFFAIR PREJUDICE',),\n",
    "#  ('AFRICAN EGG',)]"
   ]
  },
  {
   "cell_type": "markdown",
   "id": "matched-rebecca",
   "metadata": {},
   "source": [
    "Let's finish up by looking at some transactions.  Find the titles of all of the films that `PATRICIA JOHNSON` rented."
   ]
  },
  {
   "cell_type": "markdown",
   "id": "promotional-pantyhose",
   "metadata": {},
   "source": [
    "> Limit to the first five titles."
   ]
  },
  {
   "cell_type": "code",
   "execution_count": 31,
   "id": "alpha-summit",
   "metadata": {},
   "outputs": [
    {
     "data": {
      "text/plain": [
       "[('DOORS PRESIDENT',),\n",
       " ('BLACKOUT PRIVATE',),\n",
       " ('TOMORROW HUSTLER',),\n",
       " ('MUMMY CREATURES',),\n",
       " ('CLUELESS BUCKET',)]"
      ]
     },
     "execution_count": 31,
     "metadata": {},
     "output_type": "execute_result"
    }
   ],
   "source": [
    "query = \"\"\"\n",
    "\n",
    "\"\"\"\n",
    "\n",
    "cursor.execute(query)\n",
    "cursor.fetchall()\n",
    "\n",
    "# [('DOORS PRESIDENT',),\n",
    "#  ('BLACKOUT PRIVATE',),\n",
    "#  ('TOMORROW HUSTLER',),\n",
    "#  ('MUMMY CREATURES',),\n",
    "#  ('CLUELESS BUCKET',)]"
   ]
  },
  {
   "cell_type": "markdown",
   "id": "eight-baker",
   "metadata": {},
   "source": [
    "### Summary"
   ]
  },
  {
   "cell_type": "markdown",
   "id": "civic-sapphire",
   "metadata": {},
   "source": [
    "In this lesson, we practiced queries on our OLTP database.  The key is to identify the tables that have foreign keys, as they will be key in performing our queries.  Here, the main tables to pay attention to were the tables `film_actor`, `film_category`,`inventory`, and most importantly `rental`.  "
   ]
  }
 ],
 "metadata": {
  "kernelspec": {
   "display_name": "Python 3 (ipykernel)",
   "language": "python",
   "name": "python3"
  },
  "language_info": {
   "codemirror_mode": {
    "name": "ipython",
    "version": 3
   },
   "file_extension": ".py",
   "mimetype": "text/x-python",
   "name": "python",
   "nbconvert_exporter": "python",
   "pygments_lexer": "ipython3",
   "version": "3.10.6"
  }
 },
 "nbformat": 4,
 "nbformat_minor": 5
}
