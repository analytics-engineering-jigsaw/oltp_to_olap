{
 "cells": [
  {
   "cell_type": "markdown",
   "id": "coordinate-slide",
   "metadata": {},
   "source": [
    "# OLAP Schemas"
   ]
  },
  {
   "cell_type": "code",
   "execution_count": null,
   "id": "87935a84-1f50-4aa7-9ff8-8b959d1fc955",
   "metadata": {},
   "outputs": [],
   "source": [
    "1. Analytics databases\n",
    "\n",
    "A. Optimize for queries, not transactions\n",
    "* Having tables with more columns are ok, because it minimizes joins, and makes the queries faster\n",
    "* We don't care as much about the cost of updating the tables because \n",
    "\n",
    "B. The stakeholders using the analytics database, may be non-technical\n",
    "* \n"
   ]
  },
  {
   "cell_type": "code",
   "execution_count": null,
   "id": "4980050c-9605-499d-99d7-8a0f5e91bbb4",
   "metadata": {},
   "outputs": [],
   "source": [
    "* OLTP "
   ]
  },
  {
   "cell_type": "markdown",
   "id": "surrounded-sunrise",
   "metadata": {},
   "source": [
    "> <img src=\"./pagila_schema.png\" width=\"90%\">"
   ]
  },
  {
   "cell_type": "markdown",
   "id": "starting-kenya",
   "metadata": {},
   "source": [
    "### Problems with OLTP"
   ]
  },
  {
   "cell_type": "markdown",
   "id": "external-laser",
   "metadata": {},
   "source": [
    "With an analytical context context.\n",
    "\n",
    "* Don't  have to worry about a large number of inserts or updates to the database, as users will not directly interact.\n",
    "\n",
    "* Optimize for *queries* needed to explore and answer questions about our data.  \n",
    "    * And joins are time intensive\n",
    "\n",
    "* Also the users of an analytics database may be less technical"
   ]
  },
  {
   "cell_type": "markdown",
   "id": "attached-pencil",
   "metadata": {},
   "source": [
    "So in an analytical context, we no longer need to optimize for inserts and updates, where smaller tables with few columns perform well.  Instead, our use case is in *querying* our data, where we prefer to have larger tables to avoid costly joins.  In addition, a simpler table structure (with a fewer number of tables) would make for a more understandable schema, which is good for business users performing queries on the database."
   ]
  },
  {
   "cell_type": "markdown",
   "id": "offshore-scholar",
   "metadata": {},
   "source": [
    "### The Star Schema - What is it?"
   ]
  },
  {
   "cell_type": "code",
   "execution_count": null,
   "id": "3ec9746b-0ef1-48b3-a7af-ecc8fc7ddff9",
   "metadata": {},
   "outputs": [],
   "source": [
    "mart tables (datamart)"
   ]
  },
  {
   "cell_type": "markdown",
   "id": "characteristic-portsmouth",
   "metadata": {},
   "source": [
    "> <img src=\"./star_schemad_movies.png\" width=\"60%\">"
   ]
  },
  {
   "cell_type": "code",
   "execution_count": null,
   "id": "cc749687-43e3-42db-8b22-7eb2d2ab950f",
   "metadata": {},
   "outputs": [],
   "source": [
    "The fact table -> the event that is occurring."
   ]
  },
  {
   "cell_type": "markdown",
   "id": "military-swimming",
   "metadata": {},
   "source": [
    "Here we place sales (previously rentals) directly in the center of the schema.  The surrounding tables answer questions of who, what, where, and when.  We can think of the star schema as consisting of two kinds of tables - a fact table at the center, and dimension table branching out of the fact table."
   ]
  },
  {
   "cell_type": "markdown",
   "id": "desperate-veteran",
   "metadata": {},
   "source": [
    "* The fact table \n",
    "\n",
    "Generally **event** that we are trying to measure and often optimize.  \n",
    "* And `price` provides that information.  \n",
    "\n",
    "And the context who, what, where, and when this sale was involved.  "
   ]
  },
  {
   "cell_type": "markdown",
   "id": "operational-lawsuit",
   "metadata": {},
   "source": [
    "* The dimension tables "
   ]
  },
  {
   "cell_type": "markdown",
   "id": "broke-polyester",
   "metadata": {},
   "source": [
    "More more descriptive attributes, often of type text.  "
   ]
  },
  {
   "cell_type": "markdown",
   "id": "middle-directory",
   "metadata": {},
   "source": [
    "* Star Schema: But Why?"
   ]
  },
  {
   "cell_type": "markdown",
   "id": "accessory-button",
   "metadata": {},
   "source": [
    "With the star schema, any information we want is just one table away.  This makes our schema both more understandable, and our queries less costly to perform.  "
   ]
  },
  {
   "cell_type": "markdown",
   "id": "unique-arrangement",
   "metadata": {},
   "source": [
    "### Comparing the OLTP and OLAP schemas"
   ]
  },
  {
   "cell_type": "markdown",
   "id": "agreed-currency",
   "metadata": {},
   "source": [
    "Let's take another look at the star schema, considering some of the rules we needed to relax to get to this structure."
   ]
  },
  {
   "cell_type": "markdown",
   "id": "familiar-enemy",
   "metadata": {},
   "source": [
    "> <img src=\"./star-schema-pagila-updated.png\" width=\"60%\">"
   ]
  },
  {
   "cell_type": "markdown",
   "id": "historical-story",
   "metadata": {},
   "source": [
    "So the structure above is obviously simpler -- but with the star schema, we now have a structure that will repeat information.  \n",
    "\n",
    "* The entirety of the `dates` table, to begin with, is not normalized.  Every column is a derivative of the dates column and violates *single source of truth*\n",
    "* We collapsed the film-store relationship so that we no longer track inventory.  This is because *sales* is the center of our queries.  We care about the movies involved in the sale, not queries about inventory.  \n",
    "* We moved the manager information about a store to the same table as the store itself.\n",
    "* And we no longer give city, state, and zip their own table.  This will condense the number of tables, with a tradeoff of duplicating values across our tables."
   ]
  },
  {
   "cell_type": "markdown",
   "id": "congressional-generation",
   "metadata": {},
   "source": [
    "So in summary, we will not have a *single source of truth* with our OLAP schema.  But by relaxing this restriction, we have fewer tables, and each table is just one step removed from the fact table of sales.  This should make our queries both simpler to write, and less expensive."
   ]
  },
  {
   "cell_type": "markdown",
   "id": "complete-tobago",
   "metadata": {},
   "source": [
    "### Summary"
   ]
  },
  {
   "cell_type": "markdown",
   "id": "generous-denmark",
   "metadata": {},
   "source": [
    "In this lesson, we saw the differences we get when moving from an OLTP to an OLAP structure.  With the OLAP structure, we use the star schema.  Here we have a fact table at the center, usually describing an event.  Every column of the fact table is either a numeric value or a foreign key to a dimension table.  Our dimension tables provide context to the event, describing information about who, what, where, and when the event occurred.  \n",
    "We can see that the star schema makes our information simpler and easier to query.  This is preferable when we are no longer making many updates to our data, so do not need to optimize for the speed of transactions or maintaining a single source of truth.  Instead, we prefer to make our queries easier to perform, and faster to perform.  And because the star schema has fewer tables that we need to join together, we generally achieve this with this structure."
   ]
  },
  {
   "cell_type": "markdown",
   "id": "intimate-titanium",
   "metadata": {
    "jp-MarkdownHeadingCollapsed": true,
    "tags": []
   },
   "source": [
    "### Resources\n",
    "\n",
    "* [Snowflake Schema](https://en.wikipedia.org/wiki/Snowflake_schema)\n",
    "* [Star Schema](https://en.wikipedia.org/wiki/Star_schema)"
   ]
  }
 ],
 "metadata": {
  "kernelspec": {
   "display_name": "Python 3 (ipykernel)",
   "language": "python",
   "name": "python3"
  },
  "language_info": {
   "codemirror_mode": {
    "name": "ipython",
    "version": 3
   },
   "file_extension": ".py",
   "mimetype": "text/x-python",
   "name": "python",
   "nbconvert_exporter": "python",
   "pygments_lexer": "ipython3",
   "version": "3.10.6"
  }
 },
 "nbformat": 4,
 "nbformat_minor": 5
}
